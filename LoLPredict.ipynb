{
 "cells": [
  {
   "cell_type": "markdown",
   "id": "750960eb",
   "metadata": {},
   "source": [
    "ML Model to predict winner in a League of Legends match based on picked champions"
   ]
  },
  {
   "cell_type": "code",
   "execution_count": null,
   "id": "fa7b76b5",
   "metadata": {},
   "outputs": [],
   "source": [
    "# We use the cassiopeia library to make calls to the Riot API\n",
    "import cassiopeia as cass\n",
    "from cassiopeia.core import Summoner, MatchHistory, Match\n",
    "from cassiopeia import Queue, Patch\n",
    "cass.set_riot_api_key(\"\") # Riot API key: https://developer.riotgames.com/"
   ]
  },
  {
   "cell_type": "code",
   "execution_count": null,
   "id": "0e4593f0",
   "metadata": {},
   "outputs": [],
   "source": [
    "# Collect summoner IDs of all players in and above master league\n",
    "challenger_league = cass.get_challenger_league(queue=cass.Queue.ranked_solo_fives,region='NA')\n",
    "gm_league = cass.get_grandmaster_league(queue=cass.Queue.ranked_solo_fives,region='NA')\n",
    "master_league = cass.get_master_league(queue=cass.Queue.ranked_solo_fives,region='NA')"
   ]
  },
  {
   "cell_type": "code",
   "execution_count": null,
   "id": "4d693f3f",
   "metadata": {
    "scrolled": false
   },
   "outputs": [],
   "source": [
    "# Set starting point for collecting matches\n",
    "patch = Patch.from_str(\"11.22\", region='NA')"
   ]
  },
  {
   "cell_type": "code",
   "execution_count": null,
   "id": "287dd11d",
   "metadata": {},
   "outputs": [],
   "source": [
    "all_players = set()\n",
    "all_games = set()"
   ]
  },
  {
   "cell_type": "code",
   "execution_count": null,
   "id": "8a12a4bd",
   "metadata": {},
   "outputs": [],
   "source": [
    "# Collect PUUIDs from summoner IDs\n",
    "for entry in challenger_league:\n",
    "  all_players.add(entry.summoner.puuid)\n",
    "for entry in gm_league:\n",
    "  all_players.add(entry.summoner.puuid)\n",
    "for entry in master_league:\n",
    "  all_players.add(entry.summoner.puuid)"
   ]
  },
  {
   "cell_type": "code",
   "execution_count": null,
   "id": "e86d1af2",
   "metadata": {},
   "outputs": [],
   "source": [
    "# Collect all games played by players in master, grandmaster and challenger league\n",
    "for player in all_players:\n",
    "  for game in cass.get_match_history(region='NA',puuid = player, continent='AMERICAS', begin_time=patch.start,queue=Queue.ranked_solo_fives):\n",
    "    all_games.add(game.id)"
   ]
  },
  {
   "cell_type": "code",
   "execution_count": null,
   "id": "97dd5cdc",
   "metadata": {},
   "outputs": [],
   "source": [
    "matches = []\n",
    "results = []"
   ]
  },
  {
   "cell_type": "code",
   "execution_count": null,
   "id": "fd1814dc",
   "metadata": {},
   "outputs": [],
   "source": [
    "# Collect champions and results from each game, players 1-5 are blue team, 6-10 red\n",
    "for match in all_games:\n",
    "    match = cass.Match(id = match, continent='AMERICAS', region = 'NA')\n",
    "    if match.queue == Queue.ranked_solo_fives:\n",
    "        champions = []\n",
    "        for player in match.participants[:10]:\n",
    "            champions.append(player.champion.id)\n",
    "        matches.append(champions)\n",
    "        if match.participants[0].stats.win == True:\n",
    "            results.append(1)\n",
    "        else:\n",
    "            results.append(0)\n",
    "    else:\n",
    "        print(match.queue)\n",
    "\n",
    "    "
   ]
  },
  {
   "cell_type": "code",
   "execution_count": null,
   "id": "f038434b",
   "metadata": {},
   "outputs": [],
   "source": [
    "import numpy as np\n",
    "import tensorflow as tf\n",
    "from tensorflow import keras\n",
    "from tensorflow.keras import layers"
   ]
  },
  {
   "cell_type": "code",
   "execution_count": null,
   "id": "31cb1b0f",
   "metadata": {},
   "outputs": [],
   "source": [
    "onehotblue = []\n",
    "onehotred = []"
   ]
  },
  {
   "cell_type": "code",
   "execution_count": null,
   "id": "630ffabf",
   "metadata": {},
   "outputs": [],
   "source": [
    "# Turn champions of each team into a one hot encoded list, champion IDs range between 1 and 887\n",
    "onehotblue = []\n",
    "onehotred = []\n",
    "for comp in matches:\n",
    "    a = np.zeros(shape=(887,))\n",
    "    b = np.zeros(shape=(887,))\n",
    "    for hero in comp[:5]:\n",
    "        a[hero-1] = 1\n",
    "    for hero in comp[5:]:\n",
    "        b[hero-1] = 1\n",
    "    onehotblue.append(a)\n",
    "    onehotred.append(b)"
   ]
  },
  {
   "cell_type": "code",
   "execution_count": null,
   "id": "e0eed014",
   "metadata": {},
   "outputs": [],
   "source": [
    "# Prepare data\n",
    "y_train = tf.convert_to_tensor(results[:2500])\n",
    "blue_train = tf.convert_to_tensor(onehotblue[:2500])\n",
    "red_train = tf.convert_to_tensor(onehotred[:2500])\n",
    "y_train = tf.convert_to_tensor(results[:2500])\n",
    "blue_test = tf.convert_to_tensor(onehotblue[2500:])\n",
    "red_test = tf.convert_to_tensor(onehotred[2500:])\n",
    "y_test = tf.convert_to_tensor(results[2500:])"
   ]
  },
  {
   "cell_type": "code",
   "execution_count": null,
   "id": "6406956b",
   "metadata": {
    "scrolled": true
   },
   "outputs": [],
   "source": [
    "# Build model, first evaluates each team seperately, then combined\n",
    "inputsblue = keras.Input(shape=(887,))\n",
    "blue = layers.Dense(64, activation=\"relu\")(inputsblue)\n",
    "blue = layers.Dropout(0.25)(blue)\n",
    "blue = layers.Dense(64, activation=\"relu\")(blue)\n",
    "outputsblue = layers.Dense(64, activation=\"relu\")(blue)\n",
    "modelblue = keras.Model(inputs=inputsblue, outputs=outputsblue, name=\"blue_team\")\n",
    "inputsred = keras.Input(shape=(887,))\n",
    "red = layers.Dense(64, activation=\"relu\")(inputsred)\n",
    "red = layers.Dropout(0.25)(red)\n",
    "red = layers.Dense(64, activation=\"relu\")(red)\n",
    "outputsred = layers.Dense(64, activation=\"relu\")(red)\n",
    "modelred = keras.Model(inputs=inputsred, outputs=outputsred, name=\"red_team\")\n",
    "combined = layers.Concatenate(name=\"concatenate_layer\")([modelred.output, modelblue.output])\n",
    "combined = layers.Dropout(0.75)(combined)\n",
    "combined = layers.Dense(64, activation=\"relu\")(combined)\n",
    "combined = layers.Dropout(0.75)(combined)\n",
    "combined = layers.Dense(64, activation=\"relu\")(combined)\n",
    "outsputscombined = layers.Dense(1, activation=\"sigmoid\")(combined)\n",
    "model = tf.keras.Model(inputs=[modelblue.input, modelred.input],\n",
    "                         outputs=outsputscombined,\n",
    "                         name=\"full_model\")\n",
    "model.summary()"
   ]
  },
  {
   "cell_type": "code",
   "execution_count": null,
   "id": "593af0ba",
   "metadata": {},
   "outputs": [],
   "source": [
    "keras.utils.plot_model(model, \"league_model.png\", show_shapes=True)"
   ]
  },
  {
   "cell_type": "code",
   "execution_count": null,
   "id": "10194d52",
   "metadata": {},
   "outputs": [],
   "source": [
    "model.compile(loss=\"binary_crossentropy\",\n",
    "                optimizer=tf.keras.optimizers.Adam(),\n",
    "                metrics=[\"accuracy\"])"
   ]
  },
  {
   "cell_type": "code",
   "execution_count": null,
   "id": "8f88f254",
   "metadata": {},
   "outputs": [],
   "source": [
    "model.fit(x=[blue_train,red_train], y=y_train,steps_per_epoch=len(blue_train) ,validation_data=([blue_test,red_test],y_test),epochs=30,validation_steps=len(blue_test))"
   ]
  },
  {
   "cell_type": "code",
   "execution_count": null,
   "id": "de315e37",
   "metadata": {},
   "outputs": [],
   "source": [
    "model.summary()"
   ]
  },
  {
   "cell_type": "code",
   "execution_count": null,
   "id": "1667b732",
   "metadata": {},
   "outputs": [],
   "source": [
    "preds = model.predict([blue_test,red_test])"
   ]
  },
  {
   "cell_type": "code",
   "execution_count": null,
   "id": "812c1968",
   "metadata": {},
   "outputs": [],
   "source": [
    "# Evaluate how far off each prediction is from label\n",
    "y = y_test.numpy()\n",
    "preds = np.squeeze(preds)\n",
    "print(abs(preds-y).mean())"
   ]
  }
 ],
 "metadata": {
  "kernelspec": {
   "display_name": "Python 3",
   "language": "python",
   "name": "python3"
  },
  "language_info": {
   "codemirror_mode": {
    "name": "ipython",
    "version": 3
   },
   "file_extension": ".py",
   "mimetype": "text/x-python",
   "name": "python",
   "nbconvert_exporter": "python",
   "pygments_lexer": "ipython3",
   "version": "3.8.8"
  }
 },
 "nbformat": 4,
 "nbformat_minor": 5
}
