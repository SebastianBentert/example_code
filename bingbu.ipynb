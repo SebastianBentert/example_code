{
  "nbformat": 4,
  "nbformat_minor": 0,
  "metadata": {
    "colab": {
      "name": "bingbu.ipynb",
      "provenance": [],
      "collapsed_sections": [],
      "authorship_tag": "ABX9TyP1EOxWGlUjxN+zo48jymvg",
      "include_colab_link": true
    },
    "kernelspec": {
      "name": "python3",
      "display_name": "Python 3"
    },
    "language_info": {
      "name": "python"
    }
  },
  "cells": [
    {
      "cell_type": "markdown",
      "metadata": {
        "id": "view-in-github",
        "colab_type": "text"
      },
      "source": [
        "<a href=\"https://colab.research.google.com/github/SebastianBentert/example_code/blob/main/bingbu.ipynb\" target=\"_parent\"><img src=\"https://colab.research.google.com/assets/colab-badge.svg\" alt=\"Open In Colab\"/></a>"
      ]
    },
    {
      "cell_type": "code",
      "metadata": {
        "id": "9T_5VhKhO8G-"
      },
      "source": [
        "import pandas as pd\n",
        "import matplotlib.pyplot as plt\n",
        "from statistics import mean, stdev\n",
        "from itertools import combinations\n",
        "import numpy as np\n",
        "from scipy.stats import shapiro, mannwhitneyu, ttest_ind"
      ],
      "execution_count": 8,
      "outputs": []
    },
    {
      "cell_type": "code",
      "metadata": {
        "id": "Yj2iLluiO9EM"
      },
      "source": [
        "def bing(x,y):\n",
        "  \"\"\"\n",
        "  First performs a shapiro test, afterwards either t-test or u-test.\n",
        "  Takes two lists as input\n",
        "  \"\"\"\n",
        "  dall = x+y\n",
        "  _, p = shapiro(dall)\n",
        "  if p <= 0.05:\n",
        "    _, p2 = mannwhitneyu(x, y)\n",
        "    if p2 <= 0.05:\n",
        "      print(f'Normalverteilung\\nDaten sind unterschiedlich\\nshapiro P-Wert = {round(p,3)}, U-Test P-wert = {round(p2,3)}')\n",
        "    else:\n",
        "      print(f'Normalverteilung\\nDaten sind nicht unterschiedlich\\nshapiro P-Wert = {round(p,3)}, U-Test P-wert = {round(p2,3)}')\n",
        "  else:\n",
        "    _, p2 = ttest_ind(x, y)\n",
        "    if p2 <= 0.05:\n",
        "      print(f'keine Normalverteilung\\nDaten sind unterschiedlich\\nshapiro P-Wert = {round(p,3)}, T-Test P-wert = {round(p2,3)}')\n",
        "    else:\n",
        "      print(f'kein Normalverteilung\\nDaten sind nicht unterschiedlich\\nshapiro P-Wert = {round(p,3)}, T-Test P-wert = {round(p2,3)}')\n",
        "    "
      ],
      "execution_count": 9,
      "outputs": []
    },
    {
      "cell_type": "code",
      "metadata": {
        "id": "g1KPNGuPO-_r"
      },
      "source": [
        "def bing2(unb=BWUNB,u=BWU,ue=BWUE,e=BWE,vf=VF,unb2=LPUNB,u2=LPU,ue2=LPUE,e2=LPE,c=C):\n",
        "  '''\n",
        "  Alle 4 tests (unbehandelt, U, UE, E)\n",
        "  '''\n",
        "  df = pd.DataFrame(data=[[unb,unb2,mean(unb),stdev(unb),mean(unb2),stdev(unb2)],[u,u2,mean(u),stdev(u),mean(u2),stdev(u2)],[ue,ue2,mean(ue),stdev(ue),mean(ue2),stdev(ue2)],[e,e2,mean(e),stdev(e),mean(e2),stdev(e2)]],\n",
        "                    index=['unb','U','UE','E'],\n",
        "                    columns=['Messungen Blindwert','Messungen LPl','BW mean','BW std','LPl mean','LPl std'])\n",
        "  df['bw']=df['LPl mean']-df['BW mean']\n",
        "  df['VF']=vf\n",
        "  df['absorb']=df['bw']*df['VF']\n",
        "  df['protein g/L'] = (df['bw']-0.0068)/0.054\n",
        "  df['Protein mit VF g/L'] = df['protein g/L']*df['VF']\n",
        "  df['Protein %'] = df['Protein mit VF g/L']/10\n",
        "  fig = plt.figure(figsize=(10,7))\n",
        "  ax = df['Protein %'].plot(kind='bar',yerr=df['LPl std']/df['LPl mean']*df['Protein %'])\n",
        "  plt.title('Proteingehalt %')\n",
        "  for p in ax.patches:\n",
        "    ax.annotate('{:.2f}'.format(round(p.get_height(),2))+'%', (p.get_x()+0.05, p.get_height() +0.1))\n",
        "  print(df.T)\n",
        "\n",
        "  #shapiro tests\n",
        "  unbshapiro = [(((np.array(df['Messungen LPl']['unb'])-np.array(df['Messungen Blindwert']['unb']))-0.0068)/0.054)*df['VF']['unb'],'unbehandelt']\n",
        "  Ushapiro = [(((np.array(df['Messungen LPl']['U'])-np.array(df['Messungen Blindwert']['U']))-0.0068)/0.054)*df['VF']['U'],'U']\n",
        "  UEshapiro = [(((np.array(df['Messungen LPl']['UE'])-np.array(df['Messungen Blindwert']['UE']))-0.0068)/0.054)*df['VF']['UE'],'UE']\n",
        "  Eshapiro = [(((np.array(df['Messungen LPl']['E'])-np.array(df['Messungen Blindwert']['E']))-0.0068)/0.054)*df['VF']['E'],'E']\n",
        "  for x,y in combinations([unbshapiro,Ushapiro,UEshapiro,Eshapiro],2):\n",
        "    print(f'\\nVergleich von {x[1]} und {y[1]}:')\n",
        "    print(x[0],y[0])\n",
        "    bing(x[0],y[0])\n",
        "\n",
        "  df.index = df.index+' '+str(c)\n",
        "  df.to_excel('test.xlsx')\n",
        "  fig.savefig('pic')"
      ],
      "execution_count": 10,
      "outputs": []
    },
    {
      "cell_type": "code",
      "metadata": {
        "colab": {
          "base_uri": "https://localhost:8080/",
          "height": 1000
        },
        "id": "hVGU_pNePA7z",
        "outputId": "d1b470c5-6895-479b-a9d2-32d764d3a99d"
      },
      "source": [
        "BWUNB=[0.148,0.146,0.146]\n",
        "BWU=[0.15,0.15,0.15]\n",
        "BWUE=[0.148,0.146,0.146]\n",
        "BWE=[0.15,0.15,0.15]\n",
        "LPUNB=[0.343,0.348,0.344]\n",
        "LPU=[0.390,0.391,0.382]\n",
        "LPUE=[0.347,0.349,0.349]\n",
        "LPE=[0.319,0.319,0.316]\n",
        "C = 15\n",
        "VF = C/0.5\n",
        "bing2()"
      ],
      "execution_count": 11,
      "outputs": [
        {
          "output_type": "stream",
          "name": "stdout",
          "text": [
            "                                       unb  ...                      E\n",
            "Messungen Blindwert     [0.15, 0.15, 0.15]  ...     [0.15, 0.15, 0.15]\n",
            "Messungen LPl        [0.343, 0.348, 0.344]  ...  [0.347, 0.349, 0.349]\n",
            "BW mean                               0.15  ...                   0.15\n",
            "BW std                                   0  ...                      0\n",
            "LPl mean                             0.345  ...               0.348333\n",
            "LPl std                         0.00264575  ...              0.0011547\n",
            "bw                                   0.195  ...               0.198333\n",
            "VF                                      30  ...                     30\n",
            "absorb                                5.85  ...                   5.95\n",
            "protein g/L                        3.48519  ...                3.54691\n",
            "Protein mit VF g/L                 104.556  ...                106.407\n",
            "Protein %                          10.4556  ...                10.6407\n",
            "\n",
            "[12 rows x 4 columns]\n",
            "\n",
            "Vergleich von unbehandelt und U:\n",
            "[103.44444444 106.22222222 104.        ] [105.66666667 106.77777778 106.77777778]\n",
            "kein Normalverteilung\n",
            "Daten sind nicht unterschiedlich\n",
            "shapiro P-Wert = 0.843, T-Test P-wert = 0.116\n",
            "\n",
            "Vergleich von unbehandelt und UE:\n",
            "[103.44444444 106.22222222 104.        ] [105.66666667 106.77777778 106.77777778]\n",
            "kein Normalverteilung\n",
            "Daten sind nicht unterschiedlich\n",
            "shapiro P-Wert = 0.843, T-Test P-wert = 0.116\n",
            "\n",
            "Vergleich von unbehandelt und E:\n",
            "[103.44444444 106.22222222 104.        ] [105.66666667 106.77777778 106.77777778]\n",
            "kein Normalverteilung\n",
            "Daten sind nicht unterschiedlich\n",
            "shapiro P-Wert = 0.843, T-Test P-wert = 0.116\n",
            "\n",
            "Vergleich von U und UE:\n",
            "[105.66666667 106.77777778 106.77777778] [105.66666667 106.77777778 106.77777778]\n",
            "Normalverteilung\n",
            "Daten sind nicht unterschiedlich\n",
            "shapiro P-Wert = -0.0, U-Test P-wert = 0.396\n",
            "\n",
            "Vergleich von U und E:\n",
            "[105.66666667 106.77777778 106.77777778] [105.66666667 106.77777778 106.77777778]\n",
            "Normalverteilung\n",
            "Daten sind nicht unterschiedlich\n",
            "shapiro P-Wert = -0.0, U-Test P-wert = 0.396\n",
            "\n",
            "Vergleich von UE und E:\n",
            "[105.66666667 106.77777778 106.77777778] [105.66666667 106.77777778 106.77777778]\n",
            "Normalverteilung\n",
            "Daten sind nicht unterschiedlich\n",
            "shapiro P-Wert = -0.0, U-Test P-wert = 0.396\n"
          ]
        },
        {
          "output_type": "display_data",
          "data": {
            "image/png": "[encoded data removed]",
            "text/plain": [
              "<Figure size 720x504 with 1 Axes>"
            ]
          },
          "metadata": {
            "needs_background": "light"
          }
        }
      ]
    },
    {
      "cell_type": "code",
      "metadata": {
        "id": "s2ioKL5vPCdL"
      },
      "source": [
        "def bing3(LPl,BW,names,vf=VF,c=C):\n",
        "  df = pd.DataFrame(columns=['Messungen Blindwert','Messungen LPl','BW mean','BW std','LPl mean','LPl std'])\n",
        "  print(df)\n",
        "  for i in range(len(LPl)):\n",
        "    df.loc[names[i]] = [BW[i],LPl[i],mean(BW[i]),stdev(BW[i]),mean(LPl[i]),stdev(LPl[i])]\n",
        "  print(df)\n",
        "  df['bw']=df['LPl mean']-df['BW mean']\n",
        "  df['VF']=vf\n",
        "  df['absorb']=df['bw']*df['VF']\n",
        "  df['protein g/L'] = (df['bw']-0.0068)/0.054\n",
        "  df['Protein mit VF g/L'] = df['protein g/L']*df['VF']\n",
        "  df['Protein %'] = df['Protein mit VF g/L']/10\n",
        "  fig = plt.figure(figsize=(10,7))\n",
        "  ax = df['Protein %'].plot(kind='bar',yerr=df['LPl std']/df['LPl mean']*df['Protein %'])\n",
        "  plt.title('Proteingehalt %')\n",
        "  for p in ax.patches:\n",
        "    ax.annotate('{:.2f}'.format(round(p.get_height(),2))+'%', (p.get_x()+0.05, p.get_height() +0.1))\n",
        "  print(df.T)\n",
        "  d = {}\n",
        "  for index, row in df.iterrows():\n",
        "    d[index] = list((((np.array(df['Messungen LPl'][index])-np.array(df['Messungen Blindwert'][index]))-0.0068)/0.054)*df['VF'][index])\n",
        "  print(d)\n",
        "  \n",
        "  print([key for key in d])\n",
        "  for x,y in combinations([key for key in d],2):\n",
        "    print(f'\\nVergleich von {x} und {y}:')\n",
        "    bing(d[x],d[y])\n",
        "  df.index = df.index+' '+str(c)\n",
        "  df.to_excel('test2.xlsx')\n",
        "  fig.savefig('pic2')"
      ],
      "execution_count": 15,
      "outputs": []
    },
    {
      "cell_type": "code",
      "metadata": {
        "colab": {
          "base_uri": "https://localhost:8080/",
          "height": 936
        },
        "id": "YyqD8ON9PE6T",
        "outputId": "467df4ed-30d7-47ea-9d28-decea7fa1c50"
      },
      "source": [
        "VF = C/0.5\n",
        "UE1410BW = [0.148,0.146,0.146]\n",
        "UE1410LP = [0.347,0.349,0.349]\n",
        "UE0710BW = [0.15,0.15,0.15]\n",
        "UE0710LP = [0.358,0.349,0.347]\n",
        "datenLPl=[UE1410LP,UE0710LP]\n",
        "datenBW=[UE1410BW,UE0710BW]\n",
        "datennamen = ['14.7.','10.7.']\n",
        "C = 15\n",
        "VF = C/0.5\n",
        "bing3(datenLPl,datenBW,datennamen)"
      ],
      "execution_count": 16,
      "outputs": [
        {
          "output_type": "stream",
          "name": "stdout",
          "text": [
            "Empty DataFrame\n",
            "Columns: [Messungen Blindwert, Messungen LPl, BW mean, BW std, LPl mean, LPl std]\n",
            "Index: []\n",
            "         Messungen Blindwert          Messungen LPl  ...  LPl mean   LPl std\n",
            "14.7.  [0.148, 0.146, 0.146]  [0.347, 0.349, 0.349]  ...  0.348333  0.001155\n",
            "10.7.     [0.15, 0.15, 0.15]  [0.358, 0.349, 0.347]  ...  0.351333  0.005859\n",
            "\n",
            "[2 rows x 6 columns]\n",
            "                                     14.7.                  10.7.\n",
            "Messungen Blindwert  [0.148, 0.146, 0.146]     [0.15, 0.15, 0.15]\n",
            "Messungen LPl        [0.347, 0.349, 0.349]  [0.358, 0.349, 0.347]\n",
            "BW mean                           0.146667                   0.15\n",
            "BW std                           0.0011547                      0\n",
            "LPl mean                          0.348333               0.351333\n",
            "LPl std                          0.0011547             0.00585947\n",
            "bw                                0.201667               0.201333\n",
            "VF                                      30                     30\n",
            "absorb                                6.05                   6.04\n",
            "protein g/L                        3.60864                3.60247\n",
            "Protein mit VF g/L                 108.259                108.074\n",
            "Protein %                          10.8259                10.8074\n",
            "{'14.7.': [106.77777777777777, 109.0, 109.0], '10.7.': [111.77777777777777, 106.77777777777777, 105.66666666666666]}\n",
            "['14.7.', '10.7.']\n",
            "\n",
            "Vergleich von 14.7. und 10.7.:\n",
            "kein Normalverteilung\n",
            "Daten sind nicht unterschiedlich\n",
            "shapiro P-Wert = 0.5, T-Test P-wert = 0.931\n"
          ]
        },
        {
          "output_type": "display_data",
          "data": {
            "image/png": "[encoded data removed]",
            "text/plain": [
              "<Figure size 720x504 with 1 Axes>"
            ]
          },
          "metadata": {
            "needs_background": "light"
          }
        }
      ]
    },
    {
      "cell_type": "code",
      "metadata": {
        "id": "bIT8qx6kPGeT"
      },
      "source": [
        "def Trübung(unb=BWUNB,u=BWU,ue=BWUE,e=BWE,vf=VF,unb2=LPUNB,u2=LPU,ue2=LPUE,e2=LPE):\n",
        "  unb,u,ue,e,unb2,u2,ue2,e2 = np.array(unb),np.array(u),np.array(ue),np.array(e),np.array(unb2),np.array(u2),np.array(ue2),np.array(e2)\n",
        "  df = pd.DataFrame(data=[[unb,unb2,mean(unb),stdev(unb),mean(unb2),stdev(unb2)],[u,u2,mean(u),stdev(u),mean(u2),stdev(u2)],[ue,ue2,mean(ue),stdev(ue),mean(ue2),stdev(ue2)],[e,e2,mean(e),stdev(e),mean(e2),stdev(e2)]],\n",
        "                    index=['unb','U','UE','E'],\n",
        "                    columns=['Absorbtion Blindwert','Absorbtion LPl','BW mean','BW std','LPl mean','LPl std'])\n",
        "  df['Transmission% LPl'] = (10**-df['Absorbtion LPl'])*100\n",
        "  df['Transmission% LPl mean'] = (10**-df['LPl mean'])*100\n",
        "  df['Transmission% BW'] = (10**-df['Absorbtion Blindwert'])*100\n",
        "  df['Transmission% BW mean'] = (10**-df['BW mean'])*100\n",
        "  df['Transmission Effektiv%'] = (df['Transmission% LPl mean']/df['Transmission% BW mean'])*100\n",
        "  df['Trübung%'] = 100 - df['Transmission Effektiv%']\n",
        "  print(df.T)\n",
        "  fig = plt.figure(figsize=(10,7))\n",
        "  ax = df['Trübung%'].plot(kind='bar')\n",
        "  plt.title('Trübung%')\n",
        "  for p in ax.patches:\n",
        "    ax.annotate('{:.2f}'.format(round(p.get_height(),2))+'%', (p.get_x()+0.05, p.get_height() +0.1))\n",
        "  df.to_excel('test3.xlsx')\n",
        "  fig.savefig('pic3')"
      ],
      "execution_count": 17,
      "outputs": []
    },
    {
      "cell_type": "code",
      "metadata": {
        "colab": {
          "base_uri": "https://localhost:8080/",
          "height": 708
        },
        "id": "9ESVaqUnPTdq",
        "outputId": "e7321be5-2d15-4970-c9ea-0ca22c8e3d6e"
      },
      "source": [
        "BWUNB=[0.057,0.058,0.056]\n",
        "BWU=[0.056,0.055,0.059]\n",
        "BWUE=BWUNB\n",
        "BWE=BWU\n",
        "LPUNB=[0.087,0.087,0.086]\n",
        "LPU=[0.145,0.145,0.145]\n",
        "LPUE=[0.184,0.183,0.183]\n",
        "LPE=[0.099,0.183,0.183]\n",
        "Trübung()"
      ],
      "execution_count": 18,
      "outputs": [
        {
          "output_type": "stream",
          "name": "stdout",
          "text": [
            "                                                                      unb  ...                                                  E\n",
            "Absorbtion Blindwert                                [0.148, 0.146, 0.146]  ...                                 [0.15, 0.15, 0.15]\n",
            "Absorbtion LPl                                      [0.343, 0.348, 0.344]  ...                              [0.319, 0.319, 0.316]\n",
            "BW mean                                                          0.146667  ...                                               0.15\n",
            "BW std                                                          0.0011547  ...                                                  0\n",
            "LPl mean                                                            0.345  ...                                              0.318\n",
            "LPl std                                                        0.00264575  ...                                         0.00173205\n",
            "Transmission% LPl       [45.39416166502031, 44.874538993313216, 45.289...  ...  [47.97334486366891, 47.97334486366891, 48.3058...\n",
            "Transmission% LPl mean                                            45.1856  ...                                            48.0839\n",
            "Transmission% BW        [71.12135136533291, 71.44963260755134, 71.4496...  ...  [70.7945784384138, 70.7945784384138, 70.794578...\n",
            "Transmission% BW mean                                               71.34  ...                                            70.7946\n",
            "Transmission Effektiv%                                            63.3383  ...                                            67.9204\n",
            "Trübung%                                                          36.6617  ...                                            32.0796\n",
            "\n",
            "[12 rows x 4 columns]\n"
          ]
        },
        {
          "output_type": "display_data",
          "data": {
            "image/png": "[encoded data removed]",
            "text/plain": [
              "<Figure size 720x504 with 1 Axes>"
            ]
          },
          "metadata": {
            "needs_background": "light"
          }
        }
      ]
    },
    {
      "cell_type": "code",
      "metadata": {
        "id": "weFV5Uh9PYNZ"
      },
      "source": [
        ""
      ],
      "execution_count": null,
      "outputs": []
    }
  ]
}