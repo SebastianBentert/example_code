{
  "nbformat": 4,
  "nbformat_minor": 0,
  "metadata": {
    "colab": {
      "name": "bingbu.ipynb",
      "provenance": [],
      "collapsed_sections": [
        "PcGtNpJQduFD",
        "pY8U5E4dd2Ab",
        "am3XtHUkfYl7",
        "PGkAj0vSVmKp"
      ],
      "authorship_tag": "ABX9TyMcMZtr2lkAIHoUe2E2jPPf",
      "include_colab_link": true
    },
    "kernelspec": {
      "name": "python3",
      "display_name": "Python 3"
    },
    "language_info": {
      "name": "python"
    }
  },
  "cells": [
    {
      "cell_type": "markdown",
      "metadata": {
        "id": "view-in-github",
        "colab_type": "text"
      },
      "source": [
        "<a href=\"https://colab.research.google.com/github/SebastianBentert/example_code/blob/main/bingbu.ipynb\" target=\"_parent\"><img src=\"https://colab.research.google.com/assets/colab-badge.svg\" alt=\"Open In Colab\"/></a>"
      ]
    },
    {
      "cell_type": "markdown",
      "metadata": {
        "id": "7RsevYNwb_Gn"
      },
      "source": [
        "\n",
        "# Load Functions"
      ]
    },
    {
      "cell_type": "code",
      "metadata": {
        "id": "9T_5VhKhO8G-"
      },
      "source": [
        "import pandas as pd\n",
        "import matplotlib.pyplot as plt\n",
        "from statistics import mean, stdev\n",
        "from itertools import combinations\n",
        "import numpy as np\n",
        "from scipy.stats import shapiro, mannwhitneyu, ttest_ind"
      ],
      "execution_count": null,
      "outputs": []
    },
    {
      "cell_type": "code",
      "metadata": {
        "id": "Yj2iLluiO9EM"
      },
      "source": [
        "def datenvergleich(x,y):\n",
        "  \"\"\"\n",
        "  First performs a shapiro test, afterwards either a t- or u-test.\n",
        "  Takes two lists as input\n",
        "  \"\"\"\n",
        "  dall = x+y\n",
        "  _, p = shapiro(dall)\n",
        "  if p <= 0.05:\n",
        "    _, p2 = mannwhitneyu(x, y)\n",
        "    if p2 <= 0.05:\n",
        "      print(f'keine Normalverteilung\\nDaten sind unterschiedlich\\nshapiro P-Wert = {round(p,3)}, U-Test P-wert = {round(p2,3)}')\n",
        "    else:\n",
        "      print(f'keine Normalverteilung\\nDaten sind nicht unterschiedlich\\nshapiro P-Wert = {round(p,3)}, U-Test P-wert = {round(p2,3)}')\n",
        "  else:\n",
        "    _, p2 = ttest_ind(x, y)\n",
        "    if p2 <= 0.05:\n",
        "      print(f'Normalverteilung\\nDaten sind unterschiedlich\\nshapiro P-Wert = {round(p,3)}, T-Test P-wert = {round(p2,3)}')\n",
        "    else:\n",
        "      print(f'Normalverteilung\\nDaten sind nicht unterschiedlich\\nshapiro P-Wert = {round(p,3)}, T-Test P-wert = {round(p2,3)}')\n",
        "    "
      ],
      "execution_count": null,
      "outputs": []
    },
    {
      "cell_type": "code",
      "metadata": {
        "id": "fGFVMnX8kko2"
      },
      "source": [
        "def shapirotests(daten,names):\n",
        "  for x,y in combinations(range(len(daten)),2):\n",
        "    print(f'\\nVergleich von {names[x]} und {names[y]}:')\n",
        "    datenvergleich(daten[x],daten[y])"
      ],
      "execution_count": null,
      "outputs": []
    },
    {
      "cell_type": "code",
      "metadata": {
        "id": "g1KPNGuPO-_r"
      },
      "source": [
        "def proteinvoll(unb,u,ue,e,unb2,u2,ue2,e2,c,vf):\n",
        "  '''\n",
        "  Alle 4 tests (unbehandelt, U, UE, E)\n",
        "  '''\n",
        "  df = pd.DataFrame(data=[[unb,unb2,mean(unb),stdev(unb),mean(unb2),stdev(unb2)],[u,u2,mean(u),stdev(u),mean(u2),stdev(u2)],[ue,ue2,mean(ue),stdev(ue),mean(ue2),stdev(ue2)],[e,e2,mean(e),stdev(e),mean(e2),stdev(e2)]],\n",
        "                    index=['unb','U','UE','E'],\n",
        "                    columns=['Messungen Blindwert','Messungen LPl','BW mean','BW std','LPl mean','LPl std'])\n",
        "  df['bw']=df['LPl mean']-df['BW mean']\n",
        "  df['VF']=vf\n",
        "  df['absorb']=df['bw']*df['VF']\n",
        "  df['protein g/L'] = (df['bw']-0.0068)/0.054\n",
        "  df['Protein mit VF g/L'] = df['protein g/L']*df['VF']\n",
        "  df['Protein %'] = df['Protein mit VF g/L']/10\n",
        "  fig = plt.figure(figsize=(10,7))\n",
        "  ax = df['Protein %'].plot(kind='bar',yerr=df['LPl std']/df['LPl mean']*df['Protein %'])\n",
        "  plt.title('Proteingehalt %')\n",
        "  for p in ax.patches:\n",
        "    ax.annotate('{:.2f}'.format(round(p.get_height(),2))+'%', (p.get_x()+0.13, p.get_height() +0.2))\n",
        "  # shapiro tests\n",
        "  unbshapiro = [(((np.array(df['Messungen LPl']['unb'])-np.array(df['Messungen Blindwert']['unb']))-0.0068)/0.054)*df['VF']['unb'],'unbehandelt']\n",
        "  Ushapiro = [(((np.array(df['Messungen LPl']['U'])-np.array(df['Messungen Blindwert']['U']))-0.0068)/0.054)*df['VF']['U'],'U']\n",
        "  UEshapiro = [(((np.array(df['Messungen LPl']['UE'])-np.array(df['Messungen Blindwert']['UE']))-0.0068)/0.054)*df['VF']['UE'],'UE']\n",
        "  Eshapiro = [(((np.array(df['Messungen LPl']['E'])-np.array(df['Messungen Blindwert']['E']))-0.0068)/0.054)*df['VF']['E'],'E']\n",
        "  for x,y in combinations([unbshapiro,Ushapiro,UEshapiro,Eshapiro],2):\n",
        "    print(f'\\nVergleich von {x[1]} und {y[1]}:')\n",
        "    datenvergleich(x[0],y[0])\n",
        "  for col in ['Messungen Blindwert','Messungen LPl']:\n",
        "    for index, row in df.iterrows():\n",
        "      df[col][index] = '  '.join([str(n) for n in df[col][index]]).replace('.',',')\n",
        "  df.index = df.index+' '+str(c) \n",
        "  df.to_excel('Proteinanalyse.xlsx')\n",
        "  fig.savefig('Proteinplot')"
      ],
      "execution_count": null,
      "outputs": []
    },
    {
      "cell_type": "code",
      "metadata": {
        "id": "s2ioKL5vPCdL"
      },
      "source": [
        "def protein(LPl,BW,names,vf,c):\n",
        "  df = pd.DataFrame(columns=['Messungen Blindwert','Messungen LPl','BW mean','BW std','LPl mean','LPl std'])\n",
        "  for i in range(len(LPl)):\n",
        "    df.loc[names[i]] = [BW[i],LPl[i],mean(BW[i]),stdev(BW[i]),mean(LPl[i]),stdev(LPl[i])]\n",
        "  df['bw']=df['LPl mean']-df['BW mean']\n",
        "  df['VF']=vf\n",
        "  df['absorb']=df['bw']*df['VF']\n",
        "  df['protein g/L'] = (df['bw']-0.0068)/0.054\n",
        "  df['Protein mit VF g/L'] = df['protein g/L']*df['VF']\n",
        "  df['Protein %'] = df['Protein mit VF g/L']/10\n",
        "  fig = plt.figure(figsize=(10,7))\n",
        "  ax = df['Protein %'].plot(kind='bar',yerr=df['LPl std']/df['LPl mean']*df['Protein %'])\n",
        "  plt.title('Proteingehalt %')\n",
        "  for p in ax.patches:\n",
        "    ax.annotate('{:.2f}'.format(round(p.get_height(),2))+'%', (p.get_x()+0.13, p.get_height() +0.2))\n",
        "\n",
        "  d = {}\n",
        "  for index, row in df.iterrows():\n",
        "    d[index] = list((((np.array(df['Messungen LPl'][index])-np.array(df['Messungen Blindwert'][index]))-0.0068)/0.054)*df['VF'][index])\n",
        "  \n",
        "  for x,y in combinations([key for key in d],2):\n",
        "    print(f'\\nVergleich von {x} und {y}:')\n",
        "    datenvergleich(d[x],d[y])\n",
        "  df.index = df.index+' '+str(c)\n",
        "  for col in ['Messungen Blindwert','Messungen LPl']:\n",
        "    for index, row in df.iterrows():\n",
        "      df[col][index] = '  '.join([str(n) for n in df[col][index]]).replace('.',',')\n",
        "  df.to_excel('Proteinanalysecustom.xlsx')\n",
        "  fig.savefig('Proteincustomplot')"
      ],
      "execution_count": null,
      "outputs": []
    },
    {
      "cell_type": "code",
      "metadata": {
        "id": "bIT8qx6kPGeT"
      },
      "source": [
        "def Trübungvoll(unb,u,ue,e,unb2,u2,ue2,e2,vf):\n",
        "  unb,u,ue,e,unb2,u2,ue2,e2 = np.array(unb),np.array(u),np.array(ue),np.array(e),np.array(unb2),np.array(u2),np.array(ue2),np.array(e2)\n",
        "  df = pd.DataFrame(data=[[unb,unb2,mean(unb),stdev(unb),mean(unb2),stdev(unb2)],[u,u2,mean(u),stdev(u),mean(u2),stdev(u2)],[ue,ue2,mean(ue),stdev(ue),mean(ue2),stdev(ue2)],[e,e2,mean(e),stdev(e),mean(e2),stdev(e2)]],\n",
        "                    index=['unb','U','UE','E'],\n",
        "                    columns=['Absorbtion Blindwert','Absorbtion LPl','BW mean','BW std','LPl mean','LPl std'])\n",
        "  df['Transmission% LPl'] = (10**-df['Absorbtion LPl'])*100\n",
        "  df['Transmission% LPl mean'] = (10**-df['LPl mean'])*100\n",
        "  df['Transmission% BW'] = (10**-df['Absorbtion Blindwert'])*100\n",
        "  df['Transmission% BW mean'] = (10**-df['BW mean'])*100\n",
        "  df['Transmission Effektiv%'] = (df['Transmission% LPl']/df['Transmission% BW'])*100\n",
        "  df['Transmission Effektiv% mean'] = (df['Transmission% LPl mean']/df['Transmission% BW mean'])*100\n",
        "  df['Trübung%'] = 100 - df['Transmission Effektiv% mean']\n",
        "\n",
        "  for x,y in combinations([(df['Transmission Effektiv%']['unb'],'unb'),(df['Transmission Effektiv%']['U'],'U'),(df['Transmission Effektiv%']['UE'],'UE'),(df['Transmission Effektiv%']['E'],'E')],2):\n",
        "    print(f'\\nVergleich von {x[1]} und {y[1]}:')\n",
        "    datenvergleich(x[0],y[0])\n",
        "  fig = plt.figure(figsize=(10,7))\n",
        "  ax = df['Trübung%'].plot(kind='bar')\n",
        "  plt.title('Trübung%')\n",
        "  for p in ax.patches:\n",
        "    ax.annotate('{:.2f}'.format(round(p.get_height(),2))+'%', (p.get_x()+0.13, p.get_height() +0.2))\n",
        "  for col in ['Absorbtion Blindwert','Absorbtion LPl','Transmission% BW','Transmission% LPl','Transmission Effektiv%']:\n",
        "    for index, row in df.iterrows():\n",
        "      df[col][index] = '  '.join([str(n) for n in df[col][index]]).replace('.',',')\n",
        "  df.to_excel('Trübung.xlsx')\n",
        "  fig.savefig('Trübungsplot')"
      ],
      "execution_count": null,
      "outputs": []
    },
    {
      "cell_type": "code",
      "metadata": {
        "id": "g9GAUHLgiy0A"
      },
      "source": [
        "def Trübung(LPl,BW,names,vf):\n",
        "  df = pd.DataFrame(columns=['Absorbtion Blindwert','Absorbtion LPl','BW mean','BW std','LPl mean','LPl std'])\n",
        "  for i in range(len(LPl)):\n",
        "    df.loc[names[i]] = [np.array(BW[i]),np.array(LPl[i]),mean(BW[i]),stdev(BW[i]),mean(LPl[i]),stdev(LPl[i])]\n",
        "  df['Transmission% LPl'] = (10**-df['Absorbtion LPl'])*100\n",
        "  df['Transmission% LPl mean'] = (10**-df['LPl mean'])*100\n",
        "  df['Transmission% BW'] = (10**-df['Absorbtion Blindwert'])*100\n",
        "  df['Transmission% BW mean'] = (10**-df['BW mean'])*100\n",
        "  df['Transmission Effektiv%'] = (df['Transmission% LPl']/df['Transmission% BW'])*100\n",
        "  df['Transmission Effektiv% mean'] = (df['Transmission% LPl mean']/df['Transmission% BW mean'])*100\n",
        "  df['Trübung%'] = 100 - df['Transmission Effektiv% mean']\n",
        "  fig = plt.figure(figsize=(10,7))\n",
        "  ax = df['Trübung%'].plot(kind='bar')\n",
        "  plt.title('Trübung%')\n",
        "  for p in ax.patches:\n",
        "    ax.annotate('{:.2f}'.format(round(p.get_height(),2))+'%', (p.get_x()+0.13, p.get_height() +0.2))\n",
        "  records = df[['Transmission Effektiv%']].to_records(index=True)\n",
        "  print(records)\n",
        "  for x,y in combinations(records,2):\n",
        "    print(f'\\nVergleich von {x[0]} und {y[0]}:')\n",
        "    datenvergleich(x[1],y[1])\n",
        "  for col in ['Absorbtion Blindwert','Absorbtion LPl','Transmission% BW','Transmission% LPl','Transmission Effektiv%']:\n",
        "    for index, row in df.iterrows():\n",
        "      df[col][index] = '  '.join([str(n) for n in df[col][index]]).replace('.',',')\n",
        "  df.to_excel('Trübungcustom.xlsx')\n",
        "  fig.savefig('Trübungcustomplot')"
      ],
      "execution_count": null,
      "outputs": []
    },
    {
      "cell_type": "code",
      "metadata": {
        "id": "qWMyamA_LMr-"
      },
      "source": [
        "def dataframer(Daten,names,title=None,saveplot=False,savexlsx=False):\n",
        "  df = pd.DataFrame(columns=['Messungen','mean','std'])\n",
        "  for i in range(len(Daten)):\n",
        "    df.loc[names[i]] = [Daten[i],mean(Daten[i]),stdev(Daten[i])]\n",
        "  fig = plt.figure(figsize=(10,7))\n",
        "  ax = df['mean'].plot(kind='bar',yerr=df['std'])\n",
        "  if title:\n",
        "    plt.title(title)\n",
        "  for p in ax.patches:\n",
        "    ax.annotate('{:.2f}'.format(round(p.get_height(),2)), (p.get_x()+0.13, p.get_height()*1.005))\n",
        "  print(df.T)\n",
        "  d = {}\n",
        "  for index, row in df.iterrows():\n",
        "    d[index] = df['Messungen'][index]\n",
        "  for x,y in combinations([key for key in d],2):\n",
        "    print(f'\\nVergleich von {x} und {y}:')\n",
        "    datenvergleich(d[x],d[y])\n",
        "  for index, row in df.iterrows():\n",
        "    df['Messungen'][index] = '  '.join([str(n) for n in df['Messungen'][index]]).replace('.',',')\n",
        "  if savexlsx:\n",
        "    df.to_excel(f'{savexlsx}.xlsx')\n",
        "  if saveplot:\n",
        "    fig.savefig(f'{saveplot}')\n",
        "\n",
        "def Partikelgröße(Daten,names):\n",
        "  dataframer(Daten,names,title='Partikelgröße in μm',saveplot='Partikelgrößeplot',savexlsx='Partikelgröße')\n",
        "\n",
        "def Zeta(Daten,names):\n",
        "  dataframer(Daten,names,title='Zetapotential',saveplot='Zetapotentialplot',savexlsx='Zetapotential')"
      ],
      "execution_count": null,
      "outputs": []
    },
    {
      "cell_type": "markdown",
      "metadata": {
        "id": "2wizDXttcOPo"
      },
      "source": [
        "# Use functions"
      ]
    },
    {
      "cell_type": "markdown",
      "metadata": {
        "id": "3m2v9aTkdP7R"
      },
      "source": [
        "## Shapiro, U/T-Test"
      ]
    },
    {
      "cell_type": "code",
      "metadata": {
        "id": "6iER_Ac9dXLh",
        "colab": {
          "base_uri": "https://localhost:8080/"
        },
        "outputId": "7236b8bd-a673-42e5-de81-fdf09b7fe394"
      },
      "source": [
        "# Zu vergleichende Daten\n",
        "x = [0.148,0.146,0.146]\n",
        "y = [0.15,0.15,0.15]\n",
        "datenvergleich(x = x,\n",
        "               y = y)"
      ],
      "execution_count": null,
      "outputs": [
        {
          "output_type": "stream",
          "name": "stdout",
          "text": [
            "keine Normalverteilung\n",
            "Daten sind unterschiedlich\n",
            "shapiro P-Wert = 0.035, U-Test P-wert = 0.03\n"
          ]
        }
      ]
    },
    {
      "cell_type": "markdown",
      "metadata": {
        "id": "7qga4v8uj9eS"
      },
      "source": [
        "## Shapiro mit mehr als 2 Datensätzen"
      ]
    },
    {
      "cell_type": "code",
      "metadata": {
        "colab": {
          "base_uri": "https://localhost:8080/"
        },
        "id": "Q4jSNuRyj-tP",
        "outputId": "7cc35524-78c3-4cac-a160-015745a38406"
      },
      "source": [
        "q = [1,2,3]\n",
        "w = [2,3,4]\n",
        "e = [3,4,5]\n",
        "daten = [q,w,e]\n",
        "datennamen = ['q','w','e']\n",
        "\n",
        "shapirotests(daten,datennamen)"
      ],
      "execution_count": null,
      "outputs": [
        {
          "output_type": "stream",
          "name": "stdout",
          "text": [
            "\n",
            "Vergleich von q und w:\n",
            "Normalverteilung\n",
            "Daten sind nicht unterschiedlich\n",
            "shapiro P-Wert = 0.82, T-Test P-wert = 0.288\n",
            "\n",
            "Vergleich von q und e:\n",
            "Normalverteilung\n",
            "Daten sind nicht unterschiedlich\n",
            "shapiro P-Wert = 0.96, T-Test P-wert = 0.07\n",
            "\n",
            "Vergleich von w und e:\n",
            "Normalverteilung\n",
            "Daten sind nicht unterschiedlich\n",
            "shapiro P-Wert = 0.82, T-Test P-wert = 0.288\n"
          ]
        }
      ]
    },
    {
      "cell_type": "markdown",
      "metadata": {
        "id": "PcGtNpJQduFD"
      },
      "source": [
        "## Proteinanalyse mit 4 Behandlungsmethoden"
      ]
    },
    {
      "cell_type": "code",
      "metadata": {
        "colab": {
          "base_uri": "https://localhost:8080/",
          "height": 1000
        },
        "id": "hVGU_pNePA7z",
        "outputId": "8628e94c-df74-490d-8570-ac72703af1bb"
      },
      "source": [
        "# Blindwerte (unb = unbehandelt, U = Ultraschall, UE = Ultraschall+erhitzt, E = erhitzt)\n",
        "BWunb = [0.148,0.146,0.146]\n",
        "BWU = [0.15,0.15,0.15]\n",
        "BWUE=[0.148,0.146,0.146]\n",
        "BWE=[0.15,0.15,0.15]\n",
        "\n",
        "# Lupinlösungswerte\n",
        "LPunb=[0.343,0.348,0.344]\n",
        "LPU=[0.390,0.391,0.382]\n",
        "LPUE=[0.347,0.349,0.349]\n",
        "LPE=[0.319,0.319,0.316]\n",
        "\n",
        "# Konzentration\n",
        "C = 15\n",
        "\n",
        "# Verdünnungsfaktor\n",
        "VF = C/0.5\n",
        "proteinvoll(unb = BWunb,\n",
        "      u = BWU,\n",
        "      ue = BWUE,\n",
        "      e = BWE,\n",
        "      unb2 = LPunb,\n",
        "      u2 = LPU,\n",
        "      ue2 = LPUE,\n",
        "      e2 = LPE,\n",
        "      c = C,\n",
        "      vf = VF)"
      ],
      "execution_count": null,
      "outputs": [
        {
          "output_type": "stream",
          "name": "stdout",
          "text": [
            "\n",
            "Vergleich von unbehandelt und U:\n",
            "[104.55555556 108.44444444 106.22222222] [129.55555556 130.11111111 125.11111111]\n",
            "Normalverteilung\n",
            "Daten sind unterschiedlich\n",
            "shapiro P-Wert = 0.747, T-Test P-wert = 0.0\n",
            "\n",
            "Vergleich von unbehandelt und UE:\n",
            "[104.55555556 108.44444444 106.22222222] [106.77777778 109.         109.        ]\n",
            "Normalverteilung\n",
            "Daten sind nicht unterschiedlich\n",
            "shapiro P-Wert = 0.702, T-Test P-wert = 0.242\n",
            "\n",
            "Vergleich von unbehandelt und E:\n",
            "[104.55555556 108.44444444 106.22222222] [90.11111111 90.11111111 88.44444444]\n",
            "keine Normalverteilung\n",
            "Daten sind unterschiedlich\n",
            "shapiro P-Wert = -0.0, U-Test P-wert = 0.038\n",
            "\n",
            "Vergleich von U und UE:\n",
            "[129.55555556 130.11111111 125.11111111] [106.77777778 109.         109.        ]\n",
            "Normalverteilung\n",
            "Daten sind unterschiedlich\n",
            "shapiro P-Wert = 0.878, T-Test P-wert = 0.0\n",
            "\n",
            "Vergleich von U und E:\n",
            "[129.55555556 130.11111111 125.11111111] [90.11111111 90.11111111 88.44444444]\n",
            "Normalverteilung\n",
            "Daten sind unterschiedlich\n",
            "shapiro P-Wert = 0.144, T-Test P-wert = 0.0\n",
            "\n",
            "Vergleich von UE und E:\n",
            "[106.77777778 109.         109.        ] [90.11111111 90.11111111 88.44444444]\n",
            "Normalverteilung\n",
            "Daten sind unterschiedlich\n",
            "shapiro P-Wert = 0.463, T-Test P-wert = 0.0\n"
          ]
        },
        {
          "output_type": "stream",
          "name": "stderr",
          "text": [
            "/usr/local/lib/python3.7/dist-packages/ipykernel_launcher.py:29: SettingWithCopyWarning: \n",
            "A value is trying to be set on a copy of a slice from a DataFrame\n",
            "\n",
            "See the caveats in the documentation: https://pandas.pydata.org/pandas-docs/stable/user_guide/indexing.html#returning-a-view-versus-a-copy\n"
          ]
        },
        {
          "output_type": "display_data",
          "data": {
            "image/png": "[encoded data removed]",
            "text/plain": [
              "<Figure size 720x504 with 1 Axes>"
            ]
          },
          "metadata": {
            "needs_background": "light"
          }
        }
      ]
    },
    {
      "cell_type": "markdown",
      "metadata": {
        "id": "pY8U5E4dd2Ab"
      },
      "source": [
        "## Proteinanalye mit mehr oder weniger Behandlungen als 4"
      ]
    },
    {
      "cell_type": "code",
      "metadata": {
        "colab": {
          "base_uri": "https://localhost:8080/",
          "height": 833
        },
        "id": "YyqD8ON9PE6T",
        "outputId": "dba0b47e-3fa6-4826-c067-1bf99772957a"
      },
      "source": [
        "UE1410BW = [0.148,0.146,0.146]\n",
        "UE1410LP = [0.347,0.349,0.349]\n",
        "UE0710BW = [0.15,0.15,0.15]\n",
        "UE0710LP = [0.358,0.349,0.347]\n",
        "datenLPl=[UE1410LP,UE0710LP]\n",
        "datenBW=[UE1410BW,UE0710BW]\n",
        "datennamen = ['14.7.','10.7.']\n",
        "C = 15\n",
        "VF = C/0.5\n",
        "protein(LPl = datenLPl,\n",
        "      BW = datenBW,\n",
        "      names = datennamen,\n",
        "      vf = VF,\n",
        "      c = C)"
      ],
      "execution_count": null,
      "outputs": [
        {
          "output_type": "stream",
          "name": "stdout",
          "text": [
            "                                     14.7.                  10.7.\n",
            "Messungen Blindwert  [0.148, 0.146, 0.146]     [0.15, 0.15, 0.15]\n",
            "Messungen LPl        [0.347, 0.349, 0.349]  [0.358, 0.349, 0.347]\n",
            "BW mean                           0.146667                   0.15\n",
            "BW std                           0.0011547                      0\n",
            "LPl mean                          0.348333               0.351333\n",
            "LPl std                          0.0011547             0.00585947\n",
            "bw                                0.201667               0.201333\n",
            "VF                                      30                     30\n",
            "absorb                                6.05                   6.04\n",
            "protein g/L                        3.60864                3.60247\n",
            "Protein mit VF g/L                 108.259                108.074\n",
            "Protein %                          10.8259                10.8074\n",
            "['14.7.', '10.7.']\n",
            "\n",
            "Vergleich von 14.7. und 10.7.:\n",
            "Normalverteilung\n",
            "Daten sind nicht unterschiedlich\n",
            "shapiro P-Wert = 0.5, T-Test P-wert = 0.931\n"
          ]
        },
        {
          "output_type": "stream",
          "name": "stderr",
          "text": [
            "/usr/local/lib/python3.7/dist-packages/ipykernel_launcher.py:28: SettingWithCopyWarning: \n",
            "A value is trying to be set on a copy of a slice from a DataFrame\n",
            "\n",
            "See the caveats in the documentation: https://pandas.pydata.org/pandas-docs/stable/user_guide/indexing.html#returning-a-view-versus-a-copy\n"
          ]
        },
        {
          "output_type": "display_data",
          "data": {
            "image/png": "[encoded data removed]",
            "text/plain": [
              "<Figure size 720x504 with 1 Axes>"
            ]
          },
          "metadata": {
            "needs_background": "light"
          }
        }
      ]
    },
    {
      "cell_type": "markdown",
      "metadata": {
        "id": "am3XtHUkfYl7"
      },
      "source": [
        "## Trübung mit 4 Behandlungsmethoden"
      ]
    },
    {
      "cell_type": "code",
      "metadata": {
        "colab": {
          "base_uri": "https://localhost:8080/",
          "height": 1000
        },
        "id": "9ESVaqUnPTdq",
        "outputId": "627fdf48-6abb-453e-ede3-df386b877c4c"
      },
      "source": [
        "BWUNB=[0.057,0.058,0.056]\n",
        "BWU=[0.056,0.055,0.059]\n",
        "BWUE=BWUNB\n",
        "BWE=BWU\n",
        "LPUNB=[0.087,0.087,0.086]\n",
        "LPU=[0.145,0.145,0.145]\n",
        "LPUE=[0.184,0.183,0.183]\n",
        "LPE=[0.099,0.183,0.183]\n",
        "VF = 15\n",
        "Trübungvoll(unb=BWUNB,\n",
        "        u=BWU,\n",
        "        ue=BWUE,\n",
        "        e=BWE,\n",
        "        unb2=LPUNB,\n",
        "        u2=LPU,\n",
        "        ue2=LPUE,\n",
        "        e2=LPE,\n",
        "        vf=VF)"
      ],
      "execution_count": null,
      "outputs": [
        {
          "output_type": "stream",
          "name": "stdout",
          "text": [
            "\n",
            "Vergleich von unb und U:\n",
            "Normalverteilung\n",
            "Daten sind unterschiedlich\n",
            "shapiro P-Wert = 0.083, T-Test P-wert = 0.0\n",
            "\n",
            "Vergleich von unb und UE:\n",
            "keine Normalverteilung\n",
            "Daten sind unterschiedlich\n",
            "shapiro P-Wert = -0.0, U-Test P-wert = 0.04\n",
            "\n",
            "Vergleich von unb und E:\n",
            "Normalverteilung\n",
            "Daten sind nicht unterschiedlich\n",
            "shapiro P-Wert = 0.05, T-Test P-wert = 0.064\n",
            "\n",
            "Vergleich von U und UE:\n",
            "Normalverteilung\n",
            "Daten sind unterschiedlich\n",
            "shapiro P-Wert = 0.521, T-Test P-wert = 0.0\n",
            "\n",
            "Vergleich von U und E:\n",
            "Normalverteilung\n",
            "Daten sind nicht unterschiedlich\n",
            "shapiro P-Wert = 0.153, T-Test P-wert = 0.786\n",
            "\n",
            "Vergleich von UE und E:\n",
            "keine Normalverteilung\n",
            "Daten sind nicht unterschiedlich\n",
            "shapiro P-Wert = 0.037, U-Test P-wert = 0.331\n"
          ]
        },
        {
          "output_type": "stream",
          "name": "stderr",
          "text": [
            "/usr/local/lib/python3.7/dist-packages/ipykernel_launcher.py:24: SettingWithCopyWarning: \n",
            "A value is trying to be set on a copy of a slice from a DataFrame\n",
            "\n",
            "See the caveats in the documentation: https://pandas.pydata.org/pandas-docs/stable/user_guide/indexing.html#returning-a-view-versus-a-copy\n"
          ]
        },
        {
          "output_type": "display_data",
          "data": {
            "image/png": "[encoded data removed]",
            "text/plain": [
              "<Figure size 720x504 with 1 Axes>"
            ]
          },
          "metadata": {
            "needs_background": "light"
          }
        }
      ]
    },
    {
      "cell_type": "markdown",
      "metadata": {
        "id": "U2o5_3JIlQK9"
      },
      "source": [
        "## Trübung mit mehr oder weniger Behandlungen als 4"
      ]
    },
    {
      "cell_type": "code",
      "metadata": {
        "id": "-_efcRBQfH9R",
        "colab": {
          "base_uri": "https://localhost:8080/",
          "height": 675
        },
        "outputId": "d8c32e1e-407b-42a7-e442-7437613e52ca"
      },
      "source": [
        "UE1410BW = [0.148,0.146,0.146]\n",
        "UE1410LP = [0.347,0.349,0.349]\n",
        "UE0710BW = [0.15,0.15,0.15]\n",
        "UE0710LP = [0.358,0.349,0.347]\n",
        "datenLPl=[UE1410LP,UE0710LP]\n",
        "datenBW=[UE1410BW,UE0710BW]\n",
        "datennamen = ['14.7.','10.7.']\n",
        "VF = 15\n",
        "Trübung(LPl = datenLPl,\n",
        "      BW = datenBW,\n",
        "      names = datennamen,\n",
        "      vf = VF)"
      ],
      "execution_count": null,
      "outputs": [
        {
          "output_type": "stream",
          "name": "stdout",
          "text": [
            "[('14.7.', array([63.24118514, 62.66138647, 62.66138647]))\n",
            " ('10.7.', array([61.94410751, 63.24118514, 63.53309319]))]\n",
            "\n",
            "Vergleich von 14.7. und 10.7.:\n",
            "Normalverteilung\n",
            "Daten sind nicht unterschiedlich\n",
            "shapiro P-Wert = 0.544, T-Test P-wert = 0.927\n"
          ]
        },
        {
          "output_type": "stream",
          "name": "stderr",
          "text": [
            "/usr/local/lib/python3.7/dist-packages/ipykernel_launcher.py:24: SettingWithCopyWarning: \n",
            "A value is trying to be set on a copy of a slice from a DataFrame\n",
            "\n",
            "See the caveats in the documentation: https://pandas.pydata.org/pandas-docs/stable/user_guide/indexing.html#returning-a-view-versus-a-copy\n"
          ]
        },
        {
          "output_type": "display_data",
          "data": {
            "image/png": "[encoded data removed]",
            "text/plain": [
              "<Figure size 720x504 with 1 Axes>"
            ]
          },
          "metadata": {
            "needs_background": "light"
          }
        }
      ]
    },
    {
      "cell_type": "markdown",
      "metadata": {
        "id": "PGkAj0vSVmKp"
      },
      "source": [
        "## Partikelgröße"
      ]
    },
    {
      "cell_type": "code",
      "metadata": {
        "id": "icPVZkQyk8Zv",
        "colab": {
          "base_uri": "https://localhost:8080/",
          "height": 853
        },
        "outputId": "fe10fba2-2809-4ee9-b5bd-693c94221098"
      },
      "source": [
        "U = [0.69043,0.69089,0.68184]\n",
        "UE = [21.4945,20.39335,19.78578]\n",
        "E = [2.56371,2.28837,2.77256]\n",
        "daten = [U,UE,E]\n",
        "datennamen = ['U','UE','E']\n",
        "Partikelgröße(Daten=daten,\n",
        "              names = datennamen)"
      ],
      "execution_count": null,
      "outputs": [
        {
          "output_type": "stream",
          "name": "stdout",
          "text": [
            "                                     U  ...                            E\n",
            "Messungen  [0.69043, 0.69089, 0.68184]  ...  [2.56371, 2.28837, 2.77256]\n",
            "mean                           0.68772  ...                      2.54155\n",
            "std                         0.00509742  ...                     0.242855\n",
            "\n",
            "[3 rows x 3 columns]\n",
            "\n",
            "Vergleich von U und UE:\n",
            "keine Normalverteilung\n",
            "Daten sind unterschiedlich\n",
            "shapiro P-Wert = 0.009, U-Test P-wert = 0.04\n",
            "\n",
            "Vergleich von U und E:\n",
            "keine Normalverteilung\n",
            "Daten sind unterschiedlich\n",
            "shapiro P-Wert = 0.029, U-Test P-wert = 0.04\n",
            "\n",
            "Vergleich von UE und E:\n",
            "keine Normalverteilung\n",
            "Daten sind unterschiedlich\n",
            "shapiro P-Wert = 0.012, U-Test P-wert = 0.04\n"
          ]
        },
        {
          "output_type": "stream",
          "name": "stderr",
          "text": [
            "/usr/local/lib/python3.7/dist-packages/ipykernel_launcher.py:19: SettingWithCopyWarning: \n",
            "A value is trying to be set on a copy of a slice from a DataFrame\n",
            "\n",
            "See the caveats in the documentation: https://pandas.pydata.org/pandas-docs/stable/user_guide/indexing.html#returning-a-view-versus-a-copy\n"
          ]
        },
        {
          "output_type": "display_data",
          "data": {
            "image/png": "[encoded data removed]",
            "text/plain": [
              "<Figure size 720x504 with 1 Axes>"
            ]
          },
          "metadata": {
            "needs_background": "light"
          }
        }
      ]
    },
    {
      "cell_type": "markdown",
      "metadata": {
        "id": "3llh1fzEVsDJ"
      },
      "source": [
        "## Zetapotential"
      ]
    },
    {
      "cell_type": "code",
      "metadata": {
        "colab": {
          "base_uri": "https://localhost:8080/",
          "height": 853
        },
        "id": "WDqMR29tNMvE",
        "outputId": "10401374-d3eb-44eb-cb43-78b677cefd69"
      },
      "source": [
        "U = [0.69043,0.69089,0.68184]\n",
        "UE = [21.4945,20.39335,19.78578]\n",
        "E = [2.56371,2.28837,2.77256]\n",
        "daten = [U,UE,E]\n",
        "datennamen = ['U','UE','E']\n",
        "Zeta(Daten=daten,\n",
        "     names = datennamen)"
      ],
      "execution_count": null,
      "outputs": [
        {
          "output_type": "stream",
          "name": "stdout",
          "text": [
            "                                     U  ...                            E\n",
            "Messungen  [0.69043, 0.69089, 0.68184]  ...  [2.56371, 2.28837, 2.77256]\n",
            "mean                           0.68772  ...                      2.54155\n",
            "std                         0.00509742  ...                     0.242855\n",
            "\n",
            "[3 rows x 3 columns]\n",
            "\n",
            "Vergleich von U und UE:\n",
            "keine Normalverteilung\n",
            "Daten sind unterschiedlich\n",
            "shapiro P-Wert = 0.009, U-Test P-wert = 0.04\n",
            "\n",
            "Vergleich von U und E:\n",
            "keine Normalverteilung\n",
            "Daten sind unterschiedlich\n",
            "shapiro P-Wert = 0.029, U-Test P-wert = 0.04\n",
            "\n",
            "Vergleich von UE und E:\n",
            "keine Normalverteilung\n",
            "Daten sind unterschiedlich\n",
            "shapiro P-Wert = 0.012, U-Test P-wert = 0.04\n"
          ]
        },
        {
          "output_type": "stream",
          "name": "stderr",
          "text": [
            "/usr/local/lib/python3.7/dist-packages/ipykernel_launcher.py:19: SettingWithCopyWarning: \n",
            "A value is trying to be set on a copy of a slice from a DataFrame\n",
            "\n",
            "See the caveats in the documentation: https://pandas.pydata.org/pandas-docs/stable/user_guide/indexing.html#returning-a-view-versus-a-copy\n"
          ]
        },
        {
          "output_type": "display_data",
          "data": {
            "image/png": "[encoded data removed]",
            "text/plain": [
              "<Figure size 720x504 with 1 Axes>"
            ]
          },
          "metadata": {
            "needs_background": "light"
          }
        }
      ]
    },
    {
      "cell_type": "code",
      "metadata": {
        "id": "svZQAXwSVc2h"
      },
      "source": [
        ""
      ],
      "execution_count": null,
      "outputs": []
    },
    {
      "cell_type": "code",
      "metadata": {
        "id": "UocAZeDhe471"
      },
      "source": [
        ""
      ],
      "execution_count": null,
      "outputs": []
    }
  ]
}