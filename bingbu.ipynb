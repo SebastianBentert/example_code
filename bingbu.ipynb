{
  "nbformat": 4,
  "nbformat_minor": 0,
  "metadata": {
    "colab": {
      "name": "bingbu.ipynb",
      "provenance": [],
      "collapsed_sections": [],
      "authorship_tag": "ABX9TyPXUgWNg0R9CHJdX0vBy0SX",
      "include_colab_link": true
    },
    "kernelspec": {
      "name": "python3",
      "display_name": "Python 3"
    },
    "language_info": {
      "name": "python"
    }
  },
  "cells": [
    {
      "cell_type": "markdown",
      "metadata": {
        "id": "view-in-github",
        "colab_type": "text"
      },
      "source": [
        "<a href=\"https://colab.research.google.com/github/SebastianBentert/example_code/blob/main/bingbu.ipynb\" target=\"_parent\"><img src=\"https://colab.research.google.com/assets/colab-badge.svg\" alt=\"Open In Colab\"/></a>"
      ]
    },
    {
      "cell_type": "code",
      "metadata": {
        "id": "Fuul7rBXyMiS"
      },
      "source": [
        "import pandas as pd\n",
        "import matplotlib.pyplot as plt\n",
        "from statistics import mean, stdev\n",
        "from itertools import combinations\n",
        "import numpy as np\n",
        "from scipy.stats import shapiro, mannwhitneyu, ttest_ind"
      ],
      "execution_count": null,
      "outputs": []
    },
    {
      "cell_type": "code",
      "metadata": {
        "id": "Ck6BnATB6WTc"
      },
      "source": [
        "from google.colab import drive\n",
        "drive.mount('/content/drive')"
      ],
      "execution_count": null,
      "outputs": []
    },
    {
      "cell_type": "code",
      "metadata": {
        "id": "uRB6KolLb2xP"
      },
      "source": [
        "BWUNB=[0.15,0.15,0.15]\n",
        "BWU=[0.15,0.15,0.15]\n",
        "BWUE=[0.15,0.15,0.15]\n",
        "BWE=[0.15,0.15,0.15]\n",
        "LPUNB=[0.343,0.348,0.344]\n",
        "LPU=[0.347,0.349,0.349]\n",
        "LPUE=[0.347,0.349,0.349]\n",
        "LPE=[0.347,0.349,0.349]\n",
        "C = 15\n",
        "VF = C/0.5"
      ],
      "execution_count": null,
      "outputs": []
    },
    {
      "cell_type": "code",
      "metadata": {
        "id": "XnwOAcOtyOtR"
      },
      "source": [
        "def bing(x,y):\n",
        "  dall = x+y\n",
        "  _, p = shapiro(dall)\n",
        "  if p <= 0.05:\n",
        "    _, p2 = mannwhitneyu(x, y)\n",
        "    if p2 <= 0.05:\n",
        "      print(f'Normalverteilung\\nDaten sind unterschiedlich\\nshapiro P-Wert = {round(p,3)}, U-Test P-wert = {round(p2,3)}')\n",
        "    else:\n",
        "      print(f'Normalverteilung\\nDaten sind nicht unterschiedlich\\nshapiro P-Wert = {round(p,3)}, U-Test P-wert = {round(p2,3)}')\n",
        "  else:\n",
        "    _, p2 = ttest_ind(x, y)\n",
        "    if p2 <= 0.05:\n",
        "      print(f'keine Normalverteilung\\nDaten sind unterschiedlich\\nshapiro P-Wert = {round(p,3)}, T-Test P-wert = {round(p2,3)}')\n",
        "    else:\n",
        "      print(f'kein Normalverteilung\\nDaten sind nicht unterschiedlich\\nshapiro P-Wert = {round(p,3)}, T-Test P-wert = {round(p2,3)}')"
      ],
      "execution_count": null,
      "outputs": []
    },
    {
      "cell_type": "code",
      "metadata": {
        "id": "0QTlTG8QyRLx"
      },
      "source": [
        "def bing2(unb=BWUNB,u=BWU,ue=BWUE,e=BWE,vf=VF,unb2=LPUNB,u2=LPU,ue2=LPUE,e2=LPE,c=C):\n",
        "  df = pd.DataFrame(data=[[unb,unb2,mean(unb),stdev(unb),mean(unb2),stdev(unb2)],[u,u2,mean(u),stdev(u),mean(u2),stdev(u2)],[ue,ue2,mean(ue),stdev(ue),mean(ue2),stdev(ue2)],[e,e2,mean(e),stdev(e),mean(e2),stdev(e2)]],\n",
        "                    index=['unb','U','UE','E'],\n",
        "                    columns=['Messungen Blindwert','Messungen LPl','BW mean','BW std','LPl mean','LPl std'])\n",
        "  df['bw']=df['LPl mean']-df['BW mean']\n",
        "  df['VF']=vf\n",
        "  df['absorb']=df['bw']*df['VF']\n",
        "  df['protein g/L'] = (df['bw']-0.0068)/0.054\n",
        "  df['Protein mit VF g/L'] = df['protein g/L']*df['VF']\n",
        "  df['Protein %'] = df['Protein mit VF g/L']/10\n",
        "  fig = plt.figure(figsize=(15,3))\n",
        "  ax = df['Protein %'].plot(kind='bar',yerr=df['LPl std']*100)\n",
        "  plt.title('Proteingehalt %')\n",
        "  for p in ax.patches:\n",
        "    ax.annotate('{:.2f}'.format(round(p.get_height(),2))+'%', (p.get_x()+0.05, p.get_height() +0.1))\n",
        "  print(df.T)\n",
        "\n",
        "  #shapiro tests\n",
        "  unbshapiro = [(((np.array(df['Messungen LPl']['unb'])-np.array(df['Messungen Blindwert']['unb']))-0.0068)/0.054)*df['VF']['unb'],'unbehandelt']\n",
        "  Ushapiro = [(((np.array(df['Messungen LPl']['U'])-np.array(df['Messungen Blindwert']['U']))-0.0068)/0.054)*df['VF']['U'],'U']\n",
        "  UEshapiro = [(((np.array(df['Messungen LPl']['UE'])-np.array(df['Messungen Blindwert']['UE']))-0.0068)/0.054)*df['VF']['UE'],'UE']\n",
        "  Eshapiro = [(((np.array(df['Messungen LPl']['E'])-np.array(df['Messungen Blindwert']['E']))-0.0068)/0.054)*df['VF']['E'],'E']\n",
        "  for x,y in combinations([unbshapiro,Ushapiro,UEshapiro,Eshapiro],2):\n",
        "    print(f'\\nVergleich von {x[1]} und {y[1]}:')\n",
        "    bing(x[0],y[0])\n",
        "\n",
        "  df.index = df.index+' '+str(c)\n",
        "  df.to_excel('test.xlsx')\n",
        "  fig.savefig('pic')"
      ],
      "execution_count": null,
      "outputs": []
    },
    {
      "cell_type": "code",
      "metadata": {
        "id": "2vLx8dNYyTtA"
      },
      "source": [
        ""
      ],
      "execution_count": null,
      "outputs": []
    }
  ]
}