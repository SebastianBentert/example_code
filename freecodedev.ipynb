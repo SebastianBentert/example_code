{
  "nbformat": 4,
  "nbformat_minor": 0,
  "metadata": {
    "colab": {
      "name": "freecodedev.ipynb",
      "provenance": [],
      "authorship_tag": "ABX9TyPaOFeHKDdUy5uv5zGkoq4T",
      "include_colab_link": true
    },
    "kernelspec": {
      "name": "python3",
      "display_name": "Python 3"
    },
    "language_info": {
      "name": "python"
    }
  },
  "cells": [
    {
      "cell_type": "markdown",
      "metadata": {
        "id": "view-in-github",
        "colab_type": "text"
      },
      "source": [
        "<a href=\"https://colab.research.google.com/github/SebastianBentert/example_code/blob/main/freecodedev.ipynb\" target=\"_parent\"><img src=\"https://colab.research.google.com/assets/colab-badge.svg\" alt=\"Open In Colab\"/></a>"
      ]
    },
    {
      "cell_type": "code",
      "metadata": {
        "id": "gHq5nXYdwH5A"
      },
      "source": [
        "def arithmetic_arranger(problems,results=False):\n",
        "  ans = []\n",
        "  for stuff in problems:\n",
        "    q = stuff.split()\n",
        "    if q[1] not in '+-':\n",
        "      return \"Error: Operator must be '+' or '-'.\"\n",
        "    lq = max(len(q[0]),len(q[2]))\n",
        "    ans.append([lq,(2+lq-len(q[0]))*' '+ q[0],q[1]+((1+lq-len(q[2]))*' ')+q[2], (lq+2)*'-',str(int(q[0])+int(q[2]) if q[1]=='+' else int(q[0])-int(q[2]))])\n",
        "  res = ''\n",
        "  res += ans[0][1]\n",
        "  for answer in ans[1:]:\n",
        "    res+=4*' '+answer[1]\n",
        "  res += '\\n' +ans[0][2]\n",
        "  for answer in ans[1:]:\n",
        "    res+=4*' '+answer[2]\n",
        "  res +='\\n' + ans[0][3]\n",
        "  for answer in ans[1:]:\n",
        "    res+=4*' '+answer[3]\n",
        "  if results == True:\n",
        "    res += '\\n'+(ans[0][0]+2-len(ans[0][4]))*' '+ans[0][4]\n",
        "    for answer in ans[1:]:\n",
        "      res+=4*' '+(answer[0]+2-len(answer[4]))*' '+answer[4]\n",
        "  return res\n",
        "\n"
      ],
      "execution_count": null,
      "outputs": []
    },
    {
      "cell_type": "code",
      "metadata": {
        "colab": {
          "base_uri": "https://localhost:8080/"
        },
        "id": "mLF7j6LCwOfR",
        "outputId": "5054978f-b820-4d4d-b538-7f3f6727315c"
      },
      "source": [
        "print(arithmetic_arranger([\"32 + 698\", \"3801 - 2\", \"45 / 43\", \"123 + 49\"],True))"
      ],
      "execution_count": null,
      "outputs": [
        {
          "output_type": "stream",
          "name": "stdout",
          "text": [
            "Error: Operator must be '+' or '-'.\n"
          ]
        }
      ]
    },
    {
      "cell_type": "code",
      "metadata": {
        "id": "eFwOC-nz0xJI"
      },
      "source": [
        "def add_time(start, duration,day=None):\n",
        "  hours = 0\n",
        "  days = 0\n",
        "  if start[-2:] == 'PM':\n",
        "    hours += 12\n",
        "  start = start[:-3]\n",
        "  time = start.split(':')+duration.split(':')\n",
        "  hours += int(time[0])+int(time[2])\n",
        "  minutes = int(time[1])+int(time[3])\n",
        "  while minutes >= 60:\n",
        "    minutes -= 60\n",
        "    hours += 1\n",
        "  while hours >= 24:\n",
        "    hours -= 24\n",
        "    days += 1\n",
        "  weekday=''\n",
        "  if day:\n",
        "    weekdays=['monday','tuesday','wednesday','thursday','friday','saturday','sunday']\n",
        "    weekdaysc=['Monday','Tuesday','Wednesday','Thursday','Friday','Saturday','Sunday']\n",
        "    if day.lower() in weekdays:\n",
        "      weekday=', '+weekdaysc[(weekdays.index(day.lower())+days)%7]\n",
        "  pm=False\n",
        "  if hours >= 12:\n",
        "    hours -=12\n",
        "    pm=True\n",
        "  ampm = 'PM' if pm else 'AM'\n",
        "  if hours == 0:\n",
        "    hours = 12\n",
        "  hours = str(hours)\n",
        "  minutes = str(minutes)\n",
        "  while len(minutes)<2:\n",
        "    minutes= '0'+minutes\n",
        "  ans = hours +':'+minutes+' '+ampm+weekday\n",
        "  if days == 1:\n",
        "    ans+=' (next day)'\n",
        "  if days > 1:\n",
        "    ans+=f' ({days} days later)'\n",
        "  return ans"
      ],
      "execution_count": null,
      "outputs": []
    },
    {
      "cell_type": "code",
      "metadata": {
        "colab": {
          "base_uri": "https://localhost:8080/",
          "height": 35
        },
        "id": "KpYKB6gv3jpd",
        "outputId": "5859d953-61cb-436d-c908-856184da871c"
      },
      "source": [
        "add_time(\"11:43 PM\", \"24:20\", \"tueSday\")"
      ],
      "execution_count": null,
      "outputs": [
        {
          "output_type": "execute_result",
          "data": {
            "application/vnd.google.colaboratory.intrinsic+json": {
              "type": "string"
            },
            "text/plain": [
              "'12:03 AM, Thursday (2 days later)'"
            ]
          },
          "metadata": {},
          "execution_count": 143
        }
      ]
    },
    {
      "cell_type": "code",
      "metadata": {
        "colab": {
          "base_uri": "https://localhost:8080/",
          "height": 35
        },
        "id": "ovAg4UzCSBKY",
        "outputId": "ad2c11de-39d2-4e73-e6f3-9fd789108959"
      },
      "source": [
        "format(432, \".2f\")"
      ],
      "execution_count": null,
      "outputs": [
        {
          "output_type": "execute_result",
          "data": {
            "application/vnd.google.colaboratory.intrinsic+json": {
              "type": "string"
            },
            "text/plain": [
              "'432.00'"
            ]
          },
          "metadata": {},
          "execution_count": 3
        }
      ]
    },
    {
      "cell_type": "code",
      "metadata": {
        "colab": {
          "base_uri": "https://localhost:8080/"
        },
        "id": "aAbY8i3WkUYl",
        "outputId": "1c7212fc-b6dc-4bc4-ffc0-6fc86992d8e7"
      },
      "source": [
        "for i in range(10,0,-1):\n",
        "  print(i)"
      ],
      "execution_count": null,
      "outputs": [
        {
          "output_type": "stream",
          "name": "stdout",
          "text": [
            "10\n",
            "9\n",
            "8\n",
            "7\n",
            "6\n",
            "5\n",
            "4\n",
            "3\n",
            "2\n",
            "1\n"
          ]
        }
      ]
    },
    {
      "cell_type": "code",
      "metadata": {
        "id": "47w6zSeYkV4V"
      },
      "source": [
        "class Category():\n",
        "  def __init__(self,name):\n",
        "    self.ledger = []\n",
        "    self.name = name\n",
        "    self.money = 0\n",
        "    self.spent = 0\n",
        "  def __str__(self):\n",
        "    stars = 30-len(self.name[:30])\n",
        "    ans = (stars//2)*'*'+self.name[:30]+(stars//2)*'*'\n",
        "    if len(ans)<30:\n",
        "      ans += '*'\n",
        "    for dict in self.ledger:\n",
        "      curd = dict['description'][:23]\n",
        "      cura = str(format(dict['amount'],\".2f\"))\n",
        "      check = 30-(len(curd)+len(cura))\n",
        "      if check > 0:\n",
        "        curd+= check*' '\n",
        "      ans += '\\n'+curd+cura\n",
        "    ans += '\\nTotal: '+str(format(self.money,\".2f\"))\n",
        "    return ans\n",
        "  def check_funds(self,amount):\n",
        "    return True if self.money>=amount else False\n",
        "  def deposit(self, amount, description=False):\n",
        "    self.ledger.append({'amount':amount,'description':description or ''})\n",
        "    self.money += amount\n",
        "  def withdraw(self, amount, description=False):\n",
        "    if self.money >= amount:\n",
        "      self.ledger.append({'amount':amount*-1,'description':description or ''})\n",
        "      self.money -= amount\n",
        "      self.spent += amount\n",
        "      return True\n",
        "    else:\n",
        "      return False\n",
        "  def get_balance(self):\n",
        "    return self.money\n",
        "  def transfer(self,amount,cgory):\n",
        "    if self.money < amount:\n",
        "      return False\n",
        "    self.withdraw(amount,f'Transfer to {cgory.name}')\n",
        "    cgory.deposit(amount,f'Transfer from {self.name}')\n",
        "    return True\n",
        "\n",
        "import math\n",
        "def create_spend_chart(categories):\n",
        "  total = 0\n",
        "  spent = []\n",
        "  names = []\n",
        "  for cgory in categories:\n",
        "    total += cgory.spent\n",
        "    spent.append(cgory.spent)\n",
        "    names.append(cgory.name)\n",
        "  spentper = []\n",
        "  for part in spent:\n",
        "    spentper.append(math.floor(part*10/total))\n",
        "  ans = 'Percentage spent by category\\n'\n",
        "  del spent\n",
        "  for i in range(10,-1,-1):\n",
        "    if i != 10:\n",
        "      ans+=' '\n",
        "    if i == 0:\n",
        "      ans+=' '\n",
        "    ans += str(i*10)+'|'\n",
        "    for spent in spentper:\n",
        "      ans += ' o ' if spent >= i else '   '\n",
        "    ans +='\\n'\n",
        "  ans+= '    '+(len(categories)*3+1)*'-'\n",
        "  for i in range(max(map(len,names))):\n",
        "    ans+='\\n    '\n",
        "    for name in names:\n",
        "      ans+=f\" {name[i] if len(name)>i else ' '} \"\n",
        "\n",
        "  return ans"
      ],
      "execution_count": null,
      "outputs": []
    },
    {
      "cell_type": "code",
      "metadata": {
        "id": "FbaUqJVlwnRG"
      },
      "source": [
        "class Rectangle:\n",
        "  def __init__(self,width,height):\n",
        "    self.width = width\n",
        "    self.height = height\n",
        "  def __str__(self):\n",
        "    return f'Rectangle(width={self.width}, height={self.height})'\n",
        "  def set_width(self,width):\n",
        "    self.width = width\n",
        "  def set_height(self,height):\n",
        "    self.height = height\n",
        "  def get_area(self):\n",
        "    return self.width*self.height\n",
        "  def get_perimeter(self):\n",
        "    return 2 * self.width + 2 * self.height\n",
        "  def get_diagonal(self):\n",
        "    return (self.width ** 2 + self.height ** 2) ** .5\n",
        "  def get_picture(self):\n",
        "    if self.width > 50 or self.height > 50:\n",
        "      return \"Too big for picture.\"\n",
        "    return ''.join([('*'*self.width+'\\n') for _ in range(self.height)])\n",
        "  def get_amount_inside(self,obj):\n",
        "    return (self.width//obj.width)*(self.height//obj.height)\n",
        "class Square(Rectangle):\n",
        "  def __init__(self, side):\n",
        "    self.width = side\n",
        "    self.height = side\n",
        "  def __str__(self):\n",
        "    return f\"Square(side={self.width})\"\n",
        "  def set_width(self,side):\n",
        "    self.width = side\n",
        "    self.height = side\n",
        "  def set_height(self,side):\n",
        "    self.width = side\n",
        "    self.height = side\n",
        "  def set_side(self,side):\n",
        "    self.width = side\n",
        "    self.height = side"
      ],
      "execution_count": null,
      "outputs": []
    },
    {
      "cell_type": "code",
      "metadata": {
        "colab": {
          "base_uri": "https://localhost:8080/"
        },
        "id": "JvgmA3-Dwnt9",
        "outputId": "3baa0e22-36a0-4373-aee1-87077b2c8b76"
      },
      "source": [
        "rect = Rectangle(10, 5)\n",
        "print(rect.get_area())\n",
        "rect.set_height(3)\n",
        "print(rect.get_perimeter())\n",
        "print(rect)\n",
        "print(rect.get_picture())"
      ],
      "execution_count": null,
      "outputs": [
        {
          "output_type": "stream",
          "name": "stdout",
          "text": [
            "50\n",
            "26\n",
            "Rectangle(width=10, height=3)\n",
            "**********\n",
            "**********\n",
            "**********\n",
            "\n"
          ]
        }
      ]
    },
    {
      "cell_type": "code",
      "metadata": {
        "colab": {
          "base_uri": "https://localhost:8080/"
        },
        "id": "TPxNsvc0wv9E",
        "outputId": "c2878c02-7f3b-4e86-8dd1-60a7444d652d"
      },
      "source": [
        "sq = Square(9)\n",
        "print(sq.get_area())\n",
        "sq.set_side(4)\n",
        "print(sq.get_diagonal())\n",
        "print(sq)\n",
        "print(sq.get_picture())"
      ],
      "execution_count": null,
      "outputs": [
        {
          "output_type": "stream",
          "name": "stdout",
          "text": [
            "81\n",
            "5.656854249492381\n",
            "Square(side=4)\n",
            "****\n",
            "****\n",
            "****\n",
            "****\n",
            "\n"
          ]
        }
      ]
    },
    {
      "cell_type": "code",
      "metadata": {
        "colab": {
          "base_uri": "https://localhost:8080/"
        },
        "id": "QkstPhiD4Dig",
        "outputId": "1fd251a7-7024-4adc-8afc-0f835ddee78e"
      },
      "source": [
        "rect.set_height(8)\n",
        "rect.set_width(16)\n",
        "print(rect.get_amount_inside(sq))"
      ],
      "execution_count": null,
      "outputs": [
        {
          "output_type": "stream",
          "name": "stdout",
          "text": [
            "8\n"
          ]
        }
      ]
    },
    {
      "cell_type": "code",
      "metadata": {
        "id": "Rac6tU3Y-XBp"
      },
      "source": [
        "import random"
      ],
      "execution_count": null,
      "outputs": []
    },
    {
      "cell_type": "code",
      "metadata": {
        "id": "MZ0at1tN6BU6"
      },
      "source": [
        "class Hat:\n",
        "  def __init__(self,**kwargs):\n",
        "    self.content = []\n",
        "    for kw in kwargs:\n",
        "      for _ in range(kwargs[kw]):\n",
        "        self.content.append(kw)\n",
        "  def draw(self,n):\n",
        "    if n > len(self.content):\n",
        "      return self.content\n",
        "    res = random.choices(self.content, k=n)\n",
        "    for ball in res:\n",
        "      self.content.pop(self.content.index(ball))\n",
        "    print(self.contents)\n",
        "    return random.choices(self.content, k=n)\n",
        "\n",
        "def experiment(hat, expected_balls, num_balls_drawn, num_experiments):\n",
        "  valid = 0\n",
        "  for _ in range(num_experiments):\n",
        "    balls = hat.draw(num_balls_drawn)\n",
        "    result = True\n",
        "    for color in expected_balls:\n",
        "      if expected_balls[color] > balls.count(color):\n",
        "        result = False\n",
        "    if result:\n",
        "      valid += 1\n",
        "  return valid/num_experiments\n",
        "      \n",
        "      "
      ],
      "execution_count": null,
      "outputs": []
    },
    {
      "cell_type": "code",
      "metadata": {
        "id": "__auFSpr76ml"
      },
      "source": [
        "hat1 = Hat(yellow=3, blue=2, green=6)"
      ],
      "execution_count": null,
      "outputs": []
    },
    {
      "cell_type": "code",
      "metadata": {
        "colab": {
          "base_uri": "https://localhost:8080/",
          "height": 282
        },
        "id": "6rdnWVW49i5Z",
        "outputId": "333b01b5-7014-4c0e-ba5c-af1670b5da4a"
      },
      "source": [
        "hat1.draw(10)"
      ],
      "execution_count": null,
      "outputs": [
        {
          "output_type": "error",
          "ename": "ValueError",
          "evalue": "ignored",
          "traceback": [
            "\u001b[0;31m---------------------------------------------------------------------------\u001b[0m",
            "\u001b[0;31mValueError\u001b[0m                                Traceback (most recent call last)",
            "\u001b[0;32m<ipython-input-169-a321af31a27a>\u001b[0m in \u001b[0;36m<module>\u001b[0;34m()\u001b[0m\n\u001b[0;32m----> 1\u001b[0;31m \u001b[0mhat1\u001b[0m\u001b[0;34m.\u001b[0m\u001b[0mdraw\u001b[0m\u001b[0;34m(\u001b[0m\u001b[0;36m10\u001b[0m\u001b[0;34m)\u001b[0m\u001b[0;34m\u001b[0m\u001b[0;34m\u001b[0m\u001b[0m\n\u001b[0m",
            "\u001b[0;32m<ipython-input-167-02e7a08d4412>\u001b[0m in \u001b[0;36mdraw\u001b[0;34m(self, n)\u001b[0m\n\u001b[1;32m     10\u001b[0m     \u001b[0mres\u001b[0m \u001b[0;34m=\u001b[0m \u001b[0mrandom\u001b[0m\u001b[0;34m.\u001b[0m\u001b[0mchoices\u001b[0m\u001b[0;34m(\u001b[0m\u001b[0mself\u001b[0m\u001b[0;34m.\u001b[0m\u001b[0mcontent\u001b[0m\u001b[0;34m,\u001b[0m \u001b[0mk\u001b[0m\u001b[0;34m=\u001b[0m\u001b[0mn\u001b[0m\u001b[0;34m)\u001b[0m\u001b[0;34m\u001b[0m\u001b[0;34m\u001b[0m\u001b[0m\n\u001b[1;32m     11\u001b[0m     \u001b[0;32mfor\u001b[0m \u001b[0mball\u001b[0m \u001b[0;32min\u001b[0m \u001b[0mres\u001b[0m\u001b[0;34m:\u001b[0m\u001b[0;34m\u001b[0m\u001b[0;34m\u001b[0m\u001b[0m\n\u001b[0;32m---> 12\u001b[0;31m       \u001b[0mself\u001b[0m\u001b[0;34m.\u001b[0m\u001b[0mcontent\u001b[0m\u001b[0;34m.\u001b[0m\u001b[0mpop\u001b[0m\u001b[0;34m(\u001b[0m\u001b[0mself\u001b[0m\u001b[0;34m.\u001b[0m\u001b[0mcontent\u001b[0m\u001b[0;34m.\u001b[0m\u001b[0mindex\u001b[0m\u001b[0;34m(\u001b[0m\u001b[0mball\u001b[0m\u001b[0;34m)\u001b[0m\u001b[0;34m)\u001b[0m\u001b[0;34m\u001b[0m\u001b[0;34m\u001b[0m\u001b[0m\n\u001b[0m\u001b[1;32m     13\u001b[0m     \u001b[0mprint\u001b[0m\u001b[0;34m(\u001b[0m\u001b[0mself\u001b[0m\u001b[0;34m.\u001b[0m\u001b[0mcontents\u001b[0m\u001b[0;34m)\u001b[0m\u001b[0;34m\u001b[0m\u001b[0;34m\u001b[0m\u001b[0m\n\u001b[1;32m     14\u001b[0m     \u001b[0;32mreturn\u001b[0m \u001b[0mrandom\u001b[0m\u001b[0;34m.\u001b[0m\u001b[0mchoices\u001b[0m\u001b[0;34m(\u001b[0m\u001b[0mself\u001b[0m\u001b[0;34m.\u001b[0m\u001b[0mcontent\u001b[0m\u001b[0;34m,\u001b[0m \u001b[0mk\u001b[0m\u001b[0;34m=\u001b[0m\u001b[0mn\u001b[0m\u001b[0;34m)\u001b[0m\u001b[0;34m\u001b[0m\u001b[0;34m\u001b[0m\u001b[0m\n",
            "\u001b[0;31mValueError\u001b[0m: 'yellow' is not in list"
          ]
        }
      ]
    },
    {
      "cell_type": "code",
      "metadata": {
        "colab": {
          "base_uri": "https://localhost:8080/"
        },
        "id": "PXQ9Ayst-UrT",
        "outputId": "ae29bfef-8af0-4a28-959d-181d19a352d9"
      },
      "source": [
        "experiment(hat1,{'yellow':1,'blue':1},num_balls_drawn=5,num_experiments=1000)"
      ],
      "execution_count": null,
      "outputs": [
        {
          "output_type": "execute_result",
          "data": {
            "text/plain": [
              "0.458"
            ]
          },
          "metadata": {},
          "execution_count": 155
        }
      ]
    },
    {
      "cell_type": "code",
      "metadata": {
        "id": "o32ZIAwtCxDL"
      },
      "source": [
        "class Hat:\n",
        "  def __init__(self,**kwargs):\n",
        "    self.contents = []\n",
        "    for kw in kwargs:\n",
        "      for _ in range(kwargs[kw]):\n",
        "        self.contents.append(kw)\n",
        "  def draw(self,n):\n",
        "    res = []\n",
        "    for _ in range(min(len(self.contents),n)):\n",
        "      i = random.randrange(len(self.contents))\n",
        "      res.append(self.contents.pop(i))\n",
        "      #res.append(self.contents.pop(0,random.randrange(len(self.contents))))\n",
        "    print(res)\n",
        "    return res\n",
        "\n",
        "def experiment(hat, expected_balls, num_balls_drawn, num_experiments):\n",
        "  valid = 0\n",
        "  for _ in range(num_experiments):\n",
        "    h = copy.deepcopy(hat)\n",
        "    balls = h.draw(num_balls_drawn)\n",
        "    result = True\n",
        "    for color in expected_balls:\n",
        "      if expected_balls[color] > balls.count(color):\n",
        "        result = False\n",
        "    if result:\n",
        "      valid += 1\n",
        "  return valid/num_experiments"
      ],
      "execution_count": null,
      "outputs": []
    },
    {
      "cell_type": "code",
      "metadata": {
        "colab": {
          "base_uri": "https://localhost:8080/"
        },
        "id": "iAoyz4TmE_Lk",
        "outputId": "f46fae85-6238-49b5-f4e9-e2feee28fd42"
      },
      "source": [
        "hat = Hat(black=6, red=4, green=3)\n",
        "probability = experiment(hat=hat, \n",
        "                  expected_balls={\"red\":2,\"green\":1},\n",
        "                  num_balls_drawn=5,\n",
        "                  num_experiments=10)\n",
        "print(probability)"
      ],
      "execution_count": null,
      "outputs": [
        {
          "output_type": "stream",
          "name": "stdout",
          "text": [
            "['black', 'red', 'green', 'green', 'black']\n",
            "['black', 'black', 'green', 'red', 'green']\n",
            "['black', 'black', 'red', 'red', 'black']\n",
            "['black', 'red', 'black', 'green', 'green']\n",
            "['black', 'black', 'red', 'green', 'red']\n",
            "['green', 'black', 'red', 'red', 'black']\n",
            "['black', 'red', 'red', 'red', 'black']\n",
            "['black', 'red', 'black', 'black', 'green']\n",
            "['black', 'green', 'red', 'red', 'black']\n",
            "['red', 'black', 'red', 'black', 'black']\n",
            "0.3\n"
          ]
        }
      ]
    },
    {
      "cell_type": "code",
      "metadata": {
        "colab": {
          "base_uri": "https://localhost:8080/"
        },
        "id": "RALAKa9WFaiB",
        "outputId": "bd50fd3c-1612-4344-ac46-79353405a041"
      },
      "source": [
        "contents=['red','green','blue']\n",
        "n = 4\n",
        "res = []\n",
        "for i in range(min(len(contents),n)):\n",
        "  res.append(contents.pop(random.randrange(len(contents))))\n",
        "  print(contents)\n",
        "print(res)"
      ],
      "execution_count": null,
      "outputs": [
        {
          "output_type": "stream",
          "name": "stdout",
          "text": [
            "['green', 'blue']\n",
            "['blue']\n",
            "[]\n",
            "['red', 'green', 'blue']\n"
          ]
        }
      ]
    },
    {
      "cell_type": "code",
      "metadata": {
        "id": "5gsAPiT8GiQx"
      },
      "source": [
        ""
      ],
      "execution_count": null,
      "outputs": []
    }
  ]
}