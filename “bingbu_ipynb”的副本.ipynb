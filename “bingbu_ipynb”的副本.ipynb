{
  "nbformat": 4,
  "nbformat_minor": 0,
  "metadata": {
    "colab": {
      "name": "“bingbu.ipynb”的副本",
      "provenance": [],
      "collapsed_sections": [
        "7RsevYNwb_Gn",
        "PcGtNpJQduFD",
        "pY8U5E4dd2Ab",
        "am3XtHUkfYl7",
        "PGkAj0vSVmKp"
      ],
      "include_colab_link": true
    },
    "kernelspec": {
      "name": "python3",
      "display_name": "Python 3"
    },
    "language_info": {
      "name": "python"
    }
  },
  "cells": [
    {
      "cell_type": "markdown",
      "metadata": {
        "id": "view-in-github",
        "colab_type": "text"
      },
      "source": [
        "<a href=\"https://colab.research.google.com/github/SebastianBentert/example_code/blob/main/%E2%80%9Cbingbu_ipynb%E2%80%9D%E7%9A%84%E5%89%AF%E6%9C%AC.ipynb\" target=\"_parent\"><img src=\"https://colab.research.google.com/assets/colab-badge.svg\" alt=\"Open In Colab\"/></a>"
      ]
    },
    {
      "cell_type": "markdown",
      "metadata": {
        "id": "7RsevYNwb_Gn"
      },
      "source": [
        "\n",
        "# Load Functions"
      ]
    },
    {
      "cell_type": "code",
      "metadata": {
        "id": "9T_5VhKhO8G-"
      },
      "source": [
        "import pandas as pd\n",
        "import matplotlib.pyplot as plt\n",
        "from statistics import mean, stdev\n",
        "from itertools import combinations\n",
        "import numpy as np\n",
        "from scipy.stats import shapiro, mannwhitneyu, ttest_ind"
      ],
      "execution_count": 1,
      "outputs": []
    },
    {
      "cell_type": "code",
      "metadata": {
        "id": "Yj2iLluiO9EM"
      },
      "source": [
        "def datenvergleich(x,y):\n",
        "  \"\"\"\n",
        "  First performs a shapiro test, afterwards either a t- or u-test.\n",
        "  Takes two lists as input\n",
        "  \"\"\"\n",
        "  _, px = shapiro(x)\n",
        "  _, py = shapiro(y)\n",
        "  print(px,py)\n",
        "  if px <= 0.05 and py <= 0.05:\n",
        "    _, p2 = mannwhitneyu(x, y)\n",
        "    if p2 <= 0.05:\n",
        "      print(f'keine Normalverteilung\\nDaten sind unterschiedlich\\nU-Test P-wert = {round(p2,3)}')\n",
        "    else:\n",
        "      print(f'keine Normalverteilung\\nDaten sind nicht unterschiedlich\\nU-Test P-wert = {round(p2,3)}')\n",
        "  else:\n",
        "    _, p2 = ttest_ind(x, y)\n",
        "    if p2 <= 0.05:\n",
        "      print(f'Normalverteilung\\nDaten sind unterschiedlich\\nT-Test P-wert = {round(p2,3)}')\n",
        "    else:\n",
        "      print(f'Normalverteilung\\nDaten sind nicht unterschiedlich\\nT-Test P-wert = {round(p2,3)}')\n",
        "    "
      ],
      "execution_count": 2,
      "outputs": []
    },
    {
      "cell_type": "code",
      "metadata": {
        "id": "fGFVMnX8kko2"
      },
      "source": [
        "def shapirotests(daten,names):\n",
        "  for x,y in combinations(range(len(daten)),2):\n",
        "    print(f'\\nVergleich von {names[x]} und {names[y]}:')\n",
        "    datenvergleich(daten[x],daten[y])"
      ],
      "execution_count": 3,
      "outputs": []
    },
    {
      "cell_type": "code",
      "metadata": {
        "id": "g1KPNGuPO-_r"
      },
      "source": [
        "def proteinvoll(unb,u,ue,e,unb2,u2,ue2,e2,c,vf):\n",
        "  '''\n",
        "  Alle 4 tests (unbehandelt, U, UE, E)\n",
        "  '''\n",
        "  df = pd.DataFrame(data=[[unb,unb2,mean(unb),stdev(unb),mean(unb2),stdev(unb2)],[u,u2,mean(u),stdev(u),mean(u2),stdev(u2)],[ue,ue2,mean(ue),stdev(ue),mean(ue2),stdev(ue2)],[e,e2,mean(e),stdev(e),mean(e2),stdev(e2)]],\n",
        "                    index=['unb','U','UE','E'],\n",
        "                    columns=['Messungen Blindwert','Messungen LPl','BW mean','BW std','LPl mean','LPl std'])\n",
        "  df['bw']=df['LPl mean']-df['BW mean']\n",
        "  df['VF']=vf\n",
        "  df['absorb']=df['bw']*df['VF']\n",
        "  df['protein g/L'] = (df['bw']-0.0068)/0.054\n",
        "  df['Protein mit VF g/L'] = df['protein g/L']*df['VF']\n",
        "  df['Protein %'] = df['Protein mit VF g/L']/10\n",
        "  fig = plt.figure(figsize=(10,7))\n",
        "  ax = df['Protein %'].plot(kind='bar',yerr=df['LPl std']/df['LPl mean']*df['Protein %'])\n",
        "  plt.title('Proteingehalt %')\n",
        "  for p in ax.patches:\n",
        "    ax.annotate('{:.2f}'.format(round(p.get_height(),2))+'%', (p.get_x()+0.13, p.get_height() +0.2))\n",
        "  # shapiro tests\n",
        "  unbshapiro = [(((np.array(df['Messungen LPl']['unb'])-np.array(df['Messungen Blindwert']['unb']))-0.0068)/0.054)*df['VF']['unb'],'unbehandelt']\n",
        "  Ushapiro = [(((np.array(df['Messungen LPl']['U'])-np.array(df['Messungen Blindwert']['U']))-0.0068)/0.054)*df['VF']['U'],'U']\n",
        "  UEshapiro = [(((np.array(df['Messungen LPl']['UE'])-np.array(df['Messungen Blindwert']['UE']))-0.0068)/0.054)*df['VF']['UE'],'UE']\n",
        "  Eshapiro = [(((np.array(df['Messungen LPl']['E'])-np.array(df['Messungen Blindwert']['E']))-0.0068)/0.054)*df['VF']['E'],'E']\n",
        "  for x,y in combinations([unbshapiro,Ushapiro,UEshapiro,Eshapiro],2):\n",
        "    print(f'\\nVergleich von {x[1]} und {y[1]}:')\n",
        "    datenvergleich(x[0],y[0])\n",
        "  for col in ['Messungen Blindwert','Messungen LPl']:\n",
        "    for index, row in df.iterrows():\n",
        "      df[col][index] = '  '.join([str(n) for n in df[col][index]]).replace('.',',')\n",
        "  df.index = df.index+' '+str(c) \n",
        "  df.to_excel('Proteinanalyse.xlsx')\n",
        "  fig.savefig('Proteinplot')"
      ],
      "execution_count": 9,
      "outputs": []
    },
    {
      "cell_type": "code",
      "metadata": {
        "id": "s2ioKL5vPCdL"
      },
      "source": [
        "def protein(LPl,BW,names,vf,c):\n",
        "  df = pd.DataFrame(columns=['Messungen Blindwert','Messungen LPl','BW mean','BW std','LPl mean','LPl std'])\n",
        "  for i in range(len(LPl)):\n",
        "    df.loc[names[i]] = [BW[i],LPl[i],mean(BW[i]),stdev(BW[i]),mean(LPl[i]),stdev(LPl[i])]\n",
        "  df['bw']=df['LPl mean']-df['BW mean']\n",
        "  df['VF']=vf\n",
        "  df['absorb']=df['bw']*df['VF']\n",
        "  df['protein g/L'] = (df['bw']-0.0068)/0.054\n",
        "  df['Protein mit VF g/L'] = df['protein g/L']*df['VF']\n",
        "  df['Protein %'] = df['Protein mit VF g/L']/10\n",
        "  fig = plt.figure(figsize=(10,7))\n",
        "  ax = df['Protein %'].plot(kind='bar',yerr=df['LPl std']/df['LPl mean']*df['Protein %'])\n",
        "  plt.title('Proteingehalt %')\n",
        "  for p in ax.patches:\n",
        "    ax.annotate('{:.2f}'.format(round(p.get_height(),2))+'%', (p.get_x()+0.13, p.get_height() +0.2))\n",
        "\n",
        "  d = {}\n",
        "  for index, row in df.iterrows():\n",
        "    d[index] = list((((np.array(df['Messungen LPl'][index])-np.array(df['Messungen Blindwert'][index]))-0.0068)/0.054)*df['VF'][index])\n",
        "  \n",
        "  for x,y in combinations([key for key in d],2):\n",
        "    print(f'\\nVergleich von {x} und {y}:')\n",
        "    datenvergleich(d[x],d[y])\n",
        "  df.index = df.index+' '+str(c)\n",
        "  for col in ['Messungen Blindwert','Messungen LPl']:\n",
        "    for index, row in df.iterrows():\n",
        "      df[col][index] = '  '.join([str(n) for n in df[col][index]]).replace('.',',')\n",
        "  df.to_excel('Proteinanalysecustom.xlsx')\n",
        "  fig.savefig('Proteincustomplot')"
      ],
      "execution_count": 5,
      "outputs": []
    },
    {
      "cell_type": "code",
      "metadata": {
        "id": "bIT8qx6kPGeT"
      },
      "source": [
        "def Trübungvoll(unb,u,ue,e,unb2,u2,ue2,e2,vf):\n",
        "  unb,u,ue,e,unb2,u2,ue2,e2 = np.array(unb),np.array(u),np.array(ue),np.array(e),np.array(unb2),np.array(u2),np.array(ue2),np.array(e2)\n",
        "  df = pd.DataFrame(data=[[unb,unb2,mean(unb),stdev(unb),mean(unb2),stdev(unb2)],[u,u2,mean(u),stdev(u),mean(u2),stdev(u2)],[ue,ue2,mean(ue),stdev(ue),mean(ue2),stdev(ue2)],[e,e2,mean(e),stdev(e),mean(e2),stdev(e2)]],\n",
        "                    index=['unb','U','UE','E'],\n",
        "                    columns=['Absorbtion Blindwert','Absorbtion LPl','BW mean','BW std','LPl mean','LPl std'])\n",
        "  df['Transmission% LPl'] = (10**-df['Absorbtion LPl'])*100\n",
        "  df['Transmission% LPl mean'] = (10**-df['LPl mean'])*100\n",
        "  df['Transmission% BW'] = (10**-df['Absorbtion Blindwert'])*100\n",
        "  df['Transmission% BW mean'] = (10**-df['BW mean'])*100\n",
        "  df['Transmission Effektiv%'] = (df['Transmission% LPl']/df['Transmission% BW'])*100\n",
        "  df['Transmission Effektiv% mean'] = (df['Transmission% LPl mean']/df['Transmission% BW mean'])*100\n",
        "  df['Trübung%'] = 100 - df['Transmission Effektiv% mean']\n",
        "\n",
        "  for x,y in combinations([(df['Transmission Effektiv%']['unb'],'unb'),(df['Transmission Effektiv%']['U'],'U'),(df['Transmission Effektiv%']['UE'],'UE'),(df['Transmission Effektiv%']['E'],'E')],2):\n",
        "    print(f'\\nVergleich von {x[1]} und {y[1]}:')\n",
        "    datenvergleich(x[0],y[0])\n",
        "  fig = plt.figure(figsize=(10,7))\n",
        "  ax = df['Trübung%'].plot(kind='bar')\n",
        "  plt.title('Trübung%')\n",
        "  for p in ax.patches:\n",
        "    ax.annotate('{:.2f}'.format(round(p.get_height(),2))+'%', (p.get_x()+0.13, p.get_height() +0.2))\n",
        "  for col in ['Absorbtion Blindwert','Absorbtion LPl','Transmission% BW','Transmission% LPl','Transmission Effektiv%']:\n",
        "    for index, row in df.iterrows():\n",
        "      df[col][index] = '  '.join([str(n) for n in df[col][index]]).replace('.',',')\n",
        "  df.to_excel('Trübung.xlsx')\n",
        "  fig.savefig('Trübungsplot')"
      ],
      "execution_count": 6,
      "outputs": []
    },
    {
      "cell_type": "code",
      "metadata": {
        "id": "g9GAUHLgiy0A"
      },
      "source": [
        "def Trübung(LPl,BW,names,vf):\n",
        "  df = pd.DataFrame(columns=['Absorbtion Blindwert','Absorbtion LPl','BW mean','BW std','LPl mean','LPl std'])\n",
        "  for i in range(len(LPl)):\n",
        "    df.loc[names[i]] = [np.array(BW[i]),np.array(LPl[i]),mean(BW[i]),stdev(BW[i]),mean(LPl[i]),stdev(LPl[i])]\n",
        "  df['Transmission% LPl'] = (10**-df['Absorbtion LPl'])*100\n",
        "  df['Transmission% LPl mean'] = (10**-df['LPl mean'])*100\n",
        "  df['Transmission% BW'] = (10**-df['Absorbtion Blindwert'])*100\n",
        "  df['Transmission% BW mean'] = (10**-df['BW mean'])*100\n",
        "  df['Transmission Effektiv%'] = (df['Transmission% LPl']/df['Transmission% BW'])*100\n",
        "  df['Transmission Effektiv% mean'] = (df['Transmission% LPl mean']/df['Transmission% BW mean'])*100\n",
        "  df['Trübung%'] = 100 - df['Transmission Effektiv% mean']\n",
        "  fig = plt.figure(figsize=(10,7))\n",
        "  ax = df['Trübung%'].plot(kind='bar')\n",
        "  plt.title('Trübung%')\n",
        "  for p in ax.patches:\n",
        "    ax.annotate('{:.2f}'.format(round(p.get_height(),2))+'%', (p.get_x()+0.13, p.get_height() +0.2))\n",
        "  records = df[['Transmission Effektiv%']].to_records(index=True)\n",
        "  print(records)\n",
        "  for x,y in combinations(records,2):\n",
        "    print(f'\\nVergleich von {x[0]} und {y[0]}:')\n",
        "    datenvergleich(x[1],y[1])\n",
        "  for col in ['Absorbtion Blindwert','Absorbtion LPl','Transmission% BW','Transmission% LPl','Transmission Effektiv%']:\n",
        "    for index, row in df.iterrows():\n",
        "      df[col][index] = '  '.join([str(n) for n in df[col][index]]).replace('.',',')\n",
        "  df.to_excel('Trübungcustom.xlsx')\n",
        "  fig.savefig('Trübungcustomplot')"
      ],
      "execution_count": 7,
      "outputs": []
    },
    {
      "cell_type": "code",
      "metadata": {
        "id": "qWMyamA_LMr-"
      },
      "source": [
        "def dataframer(Daten,names,title=None,saveplot=False,savexlsx=False):\n",
        "  df = pd.DataFrame(columns=['Messungen','mean','std'])\n",
        "  for i in range(len(Daten)):\n",
        "    df.loc[names[i]] = [Daten[i],mean(Daten[i]),stdev(Daten[i])]\n",
        "  fig = plt.figure(figsize=(10,7))\n",
        "  ax = df['mean'].plot(kind='bar',yerr=df['std'])\n",
        "  if title:\n",
        "    plt.title(title)\n",
        "  for p in ax.patches:\n",
        "    ax.annotate('{:.2f}'.format(round(p.get_height(),2)), (p.get_x()+0.13, p.get_height()*1.005))\n",
        "  print(df.T)\n",
        "  d = {}\n",
        "  for index, row in df.iterrows():\n",
        "    d[index] = df['Messungen'][index]\n",
        "  for x,y in combinations([key for key in d],2):\n",
        "    print(f'\\nVergleich von {x} und {y}:')\n",
        "    datenvergleich(d[x],d[y])\n",
        "  for index, row in df.iterrows():\n",
        "    df['Messungen'][index] = '  '.join([str(n) for n in df['Messungen'][index]]).replace('.',',')\n",
        "  if savexlsx:\n",
        "    df.to_excel(f'{savexlsx}.xlsx')\n",
        "  if saveplot:\n",
        "    fig.savefig(f'{saveplot}')\n",
        "\n",
        "def Partikelgröße(Daten,names):\n",
        "  dataframer(Daten,names,title='Partikelgröße in μm',saveplot='Partikelgrößeplot',savexlsx='Partikelgröße')\n",
        "\n",
        "def Zeta(Daten,names):\n",
        "  dataframer(Daten,names,title='Zetapotential',saveplot='Zetapotentialplot',savexlsx='Zetapotential')"
      ],
      "execution_count": 8,
      "outputs": []
    },
    {
      "cell_type": "markdown",
      "metadata": {
        "id": "2wizDXttcOPo"
      },
      "source": [
        "# Use functions"
      ]
    },
    {
      "cell_type": "markdown",
      "metadata": {
        "id": "3m2v9aTkdP7R"
      },
      "source": [
        "## Shapiro, U/T-Test"
      ]
    },
    {
      "cell_type": "code",
      "metadata": {
        "id": "6iER_Ac9dXLh",
        "colab": {
          "base_uri": "https://localhost:8080/"
        },
        "outputId": "8dd8173b-9dbb-42af-a8b9-0f4b429bdeed"
      },
      "source": [
        "# Zu vergleichende Daten\n",
        "x = [0.148,0.146,0.146]\n",
        "y = [0.15,0.15,0.15]\n",
        "datenvergleich(x = x,\n",
        "               y = y)"
      ],
      "execution_count": null,
      "outputs": [
        {
          "output_type": "stream",
          "name": "stdout",
          "text": [
            "Normalverteilung\n",
            "Daten sind unterschiedlich\n",
            "T-Test P-wert = 0.007\n"
          ]
        },
        {
          "output_type": "stream",
          "name": "stderr",
          "text": [
            "/usr/local/lib/python3.7/dist-packages/scipy/stats/morestats.py:1673: UserWarning: Input data for shapiro has range zero. The results may not be accurate.\n",
            "  warnings.warn(\"Input data for shapiro has range zero. The results \"\n"
          ]
        }
      ]
    },
    {
      "cell_type": "markdown",
      "metadata": {
        "id": "7qga4v8uj9eS"
      },
      "source": [
        "## Shapiro mit mehr als 2 Datensätzen"
      ]
    },
    {
      "cell_type": "code",
      "metadata": {
        "colab": {
          "base_uri": "https://localhost:8080/"
        },
        "id": "Q4jSNuRyj-tP",
        "outputId": "5b1cd074-66cb-4c95-f702-a35fe6fac003"
      },
      "source": [
        "q = [1,1,1]\n",
        "w = [2,2,2]\n",
        "e = [3,4,5]\n",
        "daten = [q,w,e]\n",
        "datennamen = ['q','w','e']\n",
        "\n",
        "shapirotests(daten,datennamen)"
      ],
      "execution_count": null,
      "outputs": [
        {
          "output_type": "stream",
          "name": "stdout",
          "text": [
            "\n",
            "Vergleich von q und w:\n",
            "1.0 1.0\n",
            "Normalverteilung\n",
            "Daten sind unterschiedlich\n",
            "T-Test P-wert = 0.0\n",
            "\n",
            "Vergleich von q und e:\n",
            "1.0 0.999998927116394\n",
            "Normalverteilung\n",
            "Daten sind unterschiedlich\n",
            "T-Test P-wert = 0.007\n",
            "\n",
            "Vergleich von w und e:\n",
            "1.0 0.999998927116394\n",
            "Normalverteilung\n",
            "Daten sind unterschiedlich\n",
            "T-Test P-wert = 0.026\n"
          ]
        },
        {
          "output_type": "stream",
          "name": "stderr",
          "text": [
            "/usr/local/lib/python3.7/dist-packages/scipy/stats/morestats.py:1673: UserWarning: Input data for shapiro has range zero. The results may not be accurate.\n",
            "  warnings.warn(\"Input data for shapiro has range zero. The results \"\n"
          ]
        }
      ]
    },
    {
      "cell_type": "markdown",
      "metadata": {
        "id": "PcGtNpJQduFD"
      },
      "source": [
        "## Proteinanalyse mit 4 Behandlungsmethoden"
      ]
    },
    {
      "cell_type": "code",
      "metadata": {
        "colab": {
          "base_uri": "https://localhost:8080/",
          "height": 1000
        },
        "id": "hVGU_pNePA7z",
        "outputId": "564c4cd8-c748-4b49-d7d4-ec65a26ab8b0"
      },
      "source": [
        "# Blindwerte (unb = unbehandelt, U = Ultraschall, UE = Ultraschall+erhitzt, E = erhitzt)\n",
        "BWunb = [0.128,0.127,0.129]\n",
        "BWU = [0.128,0.127,0.129]\n",
        "BWUE=[0.128,0.127,0.129]\n",
        "BWE=[0.15,0.15,0.15]\n",
        "\n",
        "# Lupinlösungswerte\n",
        "LPunb=[0.370,0.375,0.369]\n",
        "LPU=[0.323,0.324,0.323]\n",
        "LPUE=[0.309,0.310,0.309]\n",
        "LPE=[0.319,0.319,0.316]\n",
        "\n",
        "# Konzentration\n",
        "C = 17.5\n",
        "\n",
        "# Verdünnungsfaktor\n",
        "VF = C/0.5\n",
        "proteinvoll(unb = BWunb,\n",
        "      u = BWU,\n",
        "      ue = BWUE,\n",
        "      e = BWE,\n",
        "      unb2 = LPunb,\n",
        "      u2 = LPU,\n",
        "      ue2 = LPUE,\n",
        "      e2 = LPE,\n",
        "      c = C,\n",
        "      vf = VF)"
      ],
      "execution_count": 10,
      "outputs": [
        {
          "output_type": "stream",
          "name": "stdout",
          "text": [
            "\n",
            "Vergleich von unbehandelt und U:\n",
            "0.46326205134391785 0.6368904113769531\n",
            "Normalverteilung\n",
            "Daten sind unterschiedlich\n",
            "T-Test P-wert = 0.0\n",
            "\n",
            "Vergleich von unbehandelt und UE:\n",
            "0.46326205134391785 0.6368833780288696\n",
            "Normalverteilung\n",
            "Daten sind unterschiedlich\n",
            "T-Test P-wert = 0.0\n",
            "\n",
            "Vergleich von unbehandelt und E:\n",
            "0.46326205134391785 -9.106917104872991e-07\n",
            "Normalverteilung\n",
            "Daten sind unterschiedlich\n",
            "T-Test P-wert = 0.0\n",
            "\n",
            "Vergleich von U und UE:\n",
            "0.6368904113769531 0.6368833780288696\n",
            "Normalverteilung\n",
            "Daten sind unterschiedlich\n",
            "T-Test P-wert = 0.0\n",
            "\n",
            "Vergleich von U und E:\n",
            "0.6368904113769531 -9.106917104872991e-07\n",
            "Normalverteilung\n",
            "Daten sind unterschiedlich\n",
            "T-Test P-wert = 0.0\n",
            "\n",
            "Vergleich von UE und E:\n",
            "0.6368833780288696 -9.106917104872991e-07\n",
            "Normalverteilung\n",
            "Daten sind unterschiedlich\n",
            "T-Test P-wert = 0.001\n"
          ]
        },
        {
          "output_type": "stream",
          "name": "stderr",
          "text": [
            "/usr/local/lib/python3.7/dist-packages/ipykernel_launcher.py:29: SettingWithCopyWarning: \n",
            "A value is trying to be set on a copy of a slice from a DataFrame\n",
            "\n",
            "See the caveats in the documentation: https://pandas.pydata.org/pandas-docs/stable/user_guide/indexing.html#returning-a-view-versus-a-copy\n"
          ]
        },
        {
          "output_type": "display_data",
          "data": {
            "image/png": "[encoded data removed]",
            "text/plain": [
              "<Figure size 720x504 with 1 Axes>"
            ]
          },
          "metadata": {
            "needs_background": "light"
          }
        }
      ]
    },
    {
      "cell_type": "markdown",
      "metadata": {
        "id": "pY8U5E4dd2Ab"
      },
      "source": [
        "## Proteinanalye mit mehr oder weniger Behandlungen als 4"
      ]
    },
    {
      "cell_type": "code",
      "metadata": {
        "colab": {
          "base_uri": "https://localhost:8080/",
          "height": 234
        },
        "id": "YyqD8ON9PE6T",
        "outputId": "911eee60-e42a-497b-f560-b5db9717f02d"
      },
      "source": [
        "US2_5BW = [0.128,0.127,0.129]\n",
        "US2_5SP = [0.370,0.375,0.369]\n",
        "US7_5BW = [0.128,0.127,0.129]\n",
        "US7_5SP = [0.323,0.324,0.323]\n",
        "US15BW = [0.128,0.127,0.129]\n",
        "US15SP = [0.309,0.310,0.309]\n",
        "datenLPl=[US2_5SP,US7_5SP,US15SP]\n",
        "datenBW=[US2_5BW,US7_5BW,US15BW]\n",
        "datennamen = ['US2.5.','US7.5','US15']\n",
        "C = 15\n",
        "VF = C/0.5\n",
        "protein(LPl = datenLPl,\n",
        "      BW = datenBW,\n",
        "      names = datennamen,\n",
        "      vf = VF,\n",
        "      c = C)"
      ],
      "execution_count": null,
      "outputs": [
        {
          "output_type": "error",
          "ename": "NameError",
          "evalue": "ignored",
          "traceback": [
            "\u001b[0;31m---------------------------------------------------------------------------\u001b[0m",
            "\u001b[0;31mNameError\u001b[0m                                 Traceback (most recent call last)",
            "\u001b[0;32m<ipython-input-1-fc7f8bf6ab0e>\u001b[0m in \u001b[0;36m<module>\u001b[0;34m()\u001b[0m\n\u001b[1;32m     10\u001b[0m \u001b[0mC\u001b[0m \u001b[0;34m=\u001b[0m \u001b[0;36m15\u001b[0m\u001b[0;34m\u001b[0m\u001b[0;34m\u001b[0m\u001b[0m\n\u001b[1;32m     11\u001b[0m \u001b[0mVF\u001b[0m \u001b[0;34m=\u001b[0m \u001b[0mC\u001b[0m\u001b[0;34m/\u001b[0m\u001b[0;36m0.5\u001b[0m\u001b[0;34m\u001b[0m\u001b[0;34m\u001b[0m\u001b[0m\n\u001b[0;32m---> 12\u001b[0;31m protein(LPl = datenLPl,\n\u001b[0m\u001b[1;32m     13\u001b[0m       \u001b[0mBW\u001b[0m \u001b[0;34m=\u001b[0m \u001b[0mdatenBW\u001b[0m\u001b[0;34m,\u001b[0m\u001b[0;34m\u001b[0m\u001b[0;34m\u001b[0m\u001b[0m\n\u001b[1;32m     14\u001b[0m       \u001b[0mnames\u001b[0m \u001b[0;34m=\u001b[0m \u001b[0mdatennamen\u001b[0m\u001b[0;34m,\u001b[0m\u001b[0;34m\u001b[0m\u001b[0;34m\u001b[0m\u001b[0m\n",
            "\u001b[0;31mNameError\u001b[0m: name 'protein' is not defined"
          ]
        }
      ]
    },
    {
      "cell_type": "markdown",
      "metadata": {
        "id": "am3XtHUkfYl7"
      },
      "source": [
        "## Trübung mit 4 Behandlungsmethoden"
      ]
    },
    {
      "cell_type": "code",
      "metadata": {
        "colab": {
          "base_uri": "https://localhost:8080/",
          "height": 1000
        },
        "id": "9ESVaqUnPTdq",
        "outputId": "a2da7cee-605d-4a80-fbc8-1ff21620a683"
      },
      "source": [
        "BWUNB=[0.055,0.054,0.055]\n",
        "BWU=[0.055,0.054,0.055]\n",
        "BWUE=BWUNB\n",
        "BWE=BWU\n",
        "LPUNB=[0.133,0.133,0.133]\n",
        "LPU=[0.149,0.149,0.149]\n",
        "LPUE=[0.116,0.116,0.116]\n",
        "LPE=[0.099,0.183,0.183]\n",
        "VF = 15\n",
        "Trübungvoll(unb=BWUNB,\n",
        "        u=BWU,\n",
        "        ue=BWUE,\n",
        "        e=BWE,\n",
        "        unb2=LPUNB,\n",
        "        u2=LPU,\n",
        "        ue2=LPUE,\n",
        "        e2=LPE,\n",
        "        vf=VF)"
      ],
      "execution_count": null,
      "outputs": [
        {
          "output_type": "stream",
          "name": "stdout",
          "text": [
            "\n",
            "Vergleich von unb und U:\n",
            "-9.106917104872991e-07 -9.106917104872991e-07\n",
            "keine Normalverteilung\n",
            "Daten sind unterschiedlich\n",
            "U-Test P-wert = 0.036\n",
            "\n",
            "Vergleich von unb und UE:\n",
            "-9.106917104872991e-07 -9.106917104872991e-07\n",
            "keine Normalverteilung\n",
            "Daten sind unterschiedlich\n",
            "U-Test P-wert = 0.036\n",
            "\n",
            "Vergleich von unb und E:\n",
            "-9.106917104872991e-07 0.017730483785271645\n",
            "keine Normalverteilung\n",
            "Daten sind nicht unterschiedlich\n",
            "U-Test P-wert = 0.329\n",
            "\n",
            "Vergleich von U und UE:\n",
            "-9.106917104872991e-07 -9.106917104872991e-07\n",
            "keine Normalverteilung\n",
            "Daten sind unterschiedlich\n",
            "U-Test P-wert = 0.036\n",
            "\n",
            "Vergleich von U und E:\n",
            "-9.106917104872991e-07 0.017730483785271645\n",
            "keine Normalverteilung\n",
            "Daten sind nicht unterschiedlich\n",
            "U-Test P-wert = 0.329\n",
            "\n",
            "Vergleich von UE und E:\n",
            "-9.106917104872991e-07 0.017730483785271645\n",
            "keine Normalverteilung\n",
            "Daten sind nicht unterschiedlich\n",
            "U-Test P-wert = 0.329\n"
          ]
        },
        {
          "output_type": "stream",
          "name": "stderr",
          "text": [
            "/usr/local/lib/python3.7/dist-packages/ipykernel_launcher.py:24: SettingWithCopyWarning: \n",
            "A value is trying to be set on a copy of a slice from a DataFrame\n",
            "\n",
            "See the caveats in the documentation: https://pandas.pydata.org/pandas-docs/stable/user_guide/indexing.html#returning-a-view-versus-a-copy\n"
          ]
        },
        {
          "output_type": "display_data",
          "data": {
            "image/png": "[encoded data removed]",
            "text/plain": [
              "<Figure size 720x504 with 1 Axes>"
            ]
          },
          "metadata": {
            "needs_background": "light"
          }
        }
      ]
    },
    {
      "cell_type": "markdown",
      "metadata": {
        "id": "U2o5_3JIlQK9"
      },
      "source": [
        "## Trübung mit mehr oder weniger Behandlungen als 4"
      ]
    },
    {
      "cell_type": "code",
      "metadata": {
        "id": "-_efcRBQfH9R",
        "colab": {
          "base_uri": "https://localhost:8080/",
          "height": 711
        },
        "outputId": "b217712d-dc3b-4f39-8e6a-4af597db1439"
      },
      "source": [
        "UE1410BW = [0.055,0.055,0.055]\n",
        "UE1410LP = [0.230,0.230,0.230]\n",
        "UE0710BW = [0.056,0.056,0.056]\n",
        "UE0710LP = [0.209,0.209,0.209]\n",
        "datenLPl=[UE1410LP,UE0710LP]\n",
        "datenBW=[UE1410BW,UE0710BW]\n",
        "datennamen = ['2,5min US','7,5min US']\n",
        "VF = 15\n",
        "Trübung(LPl = datenLPl,\n",
        "      BW = datenBW,\n",
        "      names = datennamen,\n",
        "      vf = VF)"
      ],
      "execution_count": null,
      "outputs": [
        {
          "output_type": "stream",
          "name": "stdout",
          "text": [
            "[('2,5min US', array([66.98846094, 66.98846094, 66.98846094]))\n",
            " ('7,5min US', array([70.30723199, 70.30723199, 70.30723199]))]\n",
            "\n",
            "Vergleich von 2,5min US und 7,5min US:\n",
            "Normalverteilung\n",
            "Daten sind unterschiedlich\n",
            "shapiro P-Wert = 1.0, T-Test P-wert = 0.0\n"
          ]
        },
        {
          "output_type": "stream",
          "name": "stderr",
          "text": [
            "/usr/local/lib/python3.7/dist-packages/scipy/stats/morestats.py:1673: UserWarning: Input data for shapiro has range zero. The results may not be accurate.\n",
            "  warnings.warn(\"Input data for shapiro has range zero. The results \"\n",
            "/usr/local/lib/python3.7/dist-packages/ipykernel_launcher.py:24: SettingWithCopyWarning: \n",
            "A value is trying to be set on a copy of a slice from a DataFrame\n",
            "\n",
            "See the caveats in the documentation: https://pandas.pydata.org/pandas-docs/stable/user_guide/indexing.html#returning-a-view-versus-a-copy\n"
          ]
        },
        {
          "output_type": "display_data",
          "data": {
            "image/png": "[encoded data removed]",
            "text/plain": [
              "<Figure size 720x504 with 1 Axes>"
            ]
          },
          "metadata": {
            "needs_background": "light"
          }
        }
      ]
    },
    {
      "cell_type": "markdown",
      "metadata": {
        "id": "PGkAj0vSVmKp"
      },
      "source": [
        "## Partikelgröße"
      ]
    },
    {
      "cell_type": "code",
      "metadata": {
        "id": "icPVZkQyk8Zv",
        "colab": {
          "base_uri": "https://localhost:8080/",
          "height": 930
        },
        "outputId": "071bb8e7-e276-43a0-e7aa-a04a56f737cf"
      },
      "source": [
        "U = [1.16985,1.12375,1.14101]\n",
        "UE = [0.84714,0.98997,0.92034]\n",
        "E = [1.15712,1.06803,1.02941]\n",
        "\n",
        "daten = [U,UE,E]\n",
        "datennamen = [\" 1\",\"2\",\"3\"]\n",
        "Partikelgröße(Daten=daten,\n",
        "              names = datennamen)"
      ],
      "execution_count": null,
      "outputs": [
        {
          "output_type": "stream",
          "name": "stdout",
          "text": [
            "                                     1  ...                            3\n",
            "Messungen  [1.16985, 1.12375, 1.14101]  ...  [1.15712, 1.06803, 1.02941]\n",
            "mean                           1.14487  ...                     1.084853\n",
            "std                           0.023291  ...                     0.065496\n",
            "\n",
            "[3 rows x 3 columns]\n",
            "\n",
            "Vergleich von  1 und 2:\n",
            "0.7249401807785034 0.9724370837211609\n",
            "Normalverteilung\n",
            "Daten sind unterschiedlich\n",
            "T-Test P-wert = 0.006\n",
            "\n",
            "Vergleich von  1 und 3:\n",
            "0.7249401807785034 0.5715701580047607\n",
            "Normalverteilung\n",
            "Daten sind nicht unterschiedlich\n",
            "T-Test P-wert = 0.209\n",
            "\n",
            "Vergleich von 2 und 3:\n",
            "0.9724370837211609 0.5715701580047607\n",
            "Normalverteilung\n",
            "Daten sind unterschiedlich\n",
            "T-Test P-wert = 0.041\n"
          ]
        },
        {
          "output_type": "stream",
          "name": "stderr",
          "text": [
            "/usr/local/lib/python3.7/dist-packages/ipykernel_launcher.py:19: SettingWithCopyWarning: \n",
            "A value is trying to be set on a copy of a slice from a DataFrame\n",
            "\n",
            "See the caveats in the documentation: https://pandas.pydata.org/pandas-docs/stable/user_guide/indexing.html#returning-a-view-versus-a-copy\n"
          ]
        },
        {
          "output_type": "display_data",
          "data": {
            "image/png": "[encoded data removed]",
            "text/plain": [
              "<Figure size 720x504 with 1 Axes>"
            ]
          },
          "metadata": {
            "needs_background": "light"
          }
        }
      ]
    },
    {
      "cell_type": "markdown",
      "metadata": {
        "id": "3llh1fzEVsDJ"
      },
      "source": [
        "## Zetapotential"
      ]
    },
    {
      "cell_type": "code",
      "metadata": {
        "colab": {
          "base_uri": "https://localhost:8080/",
          "height": 927
        },
        "id": "WDqMR29tNMvE",
        "outputId": "0653ef81-e2ef-440e-d3f8-6e423c2ec6d7"
      },
      "source": [
        "US25 = [-22.1,-21.6,-21.2,-22.6,-22.9]\n",
        "US75 = [-24.5,-24.5,-25.0,-25.7,-25.6]\n",
        "U = [-25.6,-22.4,-24.8,-22.9,-24.9]\n",
        "\n",
        "daten = [US25,US75,U]\n",
        "datennamen = ['1',\"2\",\"3\"]\n",
        "Zeta(Daten=daten,\n",
        "     names = datennamen)"
      ],
      "execution_count": null,
      "outputs": [
        {
          "output_type": "stream",
          "name": "stdout",
          "text": [
            "                                             1  ...                                    3\n",
            "Messungen  [-22.1, -21.6, -21.2, -22.6, -22.9]  ...  [-25.6, -22.4, -24.8, -22.9, -24.9]\n",
            "mean                                    -22.08  ...                               -24.12\n",
            "std                                   0.697854  ...                             1.388164\n",
            "\n",
            "[3 rows x 3 columns]\n",
            "\n",
            "Vergleich von 1 und 2:\n",
            "0.8440166711807251 0.18959403038024902\n",
            "Normalverteilung\n",
            "Daten sind unterschiedlich\n",
            "T-Test P-wert = 0.0\n",
            "\n",
            "Vergleich von 1 und 3:\n",
            "0.8440166711807251 0.3253594636917114\n",
            "Normalverteilung\n",
            "Daten sind unterschiedlich\n",
            "T-Test P-wert = 0.019\n",
            "\n",
            "Vergleich von 2 und 3:\n",
            "0.18959403038024902 0.3253594636917114\n",
            "Normalverteilung\n",
            "Daten sind nicht unterschiedlich\n",
            "T-Test P-wert = 0.2\n"
          ]
        },
        {
          "output_type": "stream",
          "name": "stderr",
          "text": [
            "/usr/local/lib/python3.7/dist-packages/ipykernel_launcher.py:19: SettingWithCopyWarning: \n",
            "A value is trying to be set on a copy of a slice from a DataFrame\n",
            "\n",
            "See the caveats in the documentation: https://pandas.pydata.org/pandas-docs/stable/user_guide/indexing.html#returning-a-view-versus-a-copy\n"
          ]
        },
        {
          "output_type": "display_data",
          "data": {
            "image/png": "[encoded data removed]",
            "text/plain": [
              "<Figure size 720x504 with 1 Axes>"
            ]
          },
          "metadata": {
            "needs_background": "light"
          }
        }
      ]
    },
    {
      "cell_type": "code",
      "metadata": {
        "id": "svZQAXwSVc2h"
      },
      "source": [
        ""
      ],
      "execution_count": null,
      "outputs": []
    },
    {
      "cell_type": "code",
      "metadata": {
        "id": "UocAZeDhe471"
      },
      "source": [
        ""
      ],
      "execution_count": null,
      "outputs": []
    }
  ]
}