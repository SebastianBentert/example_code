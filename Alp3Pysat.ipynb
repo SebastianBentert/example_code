{
  "nbformat": 4,
  "nbformat_minor": 0,
  "metadata": {
    "colab": {
      "provenance": [],
      "authorship_tag": "ABX9TyP+tVF5dUh5PC6cfQnm5OOg",
      "include_colab_link": true
    },
    "kernelspec": {
      "name": "python3",
      "display_name": "Python 3"
    },
    "language_info": {
      "name": "python"
    }
  },
  "cells": [
    {
      "cell_type": "markdown",
      "metadata": {
        "id": "view-in-github",
        "colab_type": "text"
      },
      "source": [
        "<a href=\"https://colab.research.google.com/github/SebastianBentert/example_code/blob/main/Alp3Pysat.ipynb\" target=\"_parent\"><img src=\"https://colab.research.google.com/assets/colab-badge.svg\" alt=\"Open In Colab\"/></a>"
      ]
    },
    {
      "cell_type": "code",
      "execution_count": 1,
      "metadata": {
        "colab": {
          "base_uri": "https://localhost:8080/"
        },
        "id": "-Co2Xz5zmDvh",
        "outputId": "19f181b6-3db9-41b7-d444-611d4c576763"
      },
      "outputs": [
        {
          "output_type": "stream",
          "name": "stdout",
          "text": [
            "Looking in indexes: https://pypi.org/simple, https://us-python.pkg.dev/colab-wheels/public/simple/\n",
            "Collecting python-sat\n",
            "  Downloading python_sat-0.1.7.dev26-cp38-cp38-manylinux2010_x86_64.whl (1.8 MB)\n",
            "\u001b[2K     \u001b[90m━━━━━━━━━━━━━━━━━━━━━━━━━━━━━━━━━━━━━━━━\u001b[0m \u001b[32m1.8/1.8 MB\u001b[0m \u001b[31m17.7 MB/s\u001b[0m eta \u001b[36m0:00:00\u001b[0m\n",
            "\u001b[?25hRequirement already satisfied: six in /usr/local/lib/python3.8/dist-packages (from python-sat) (1.15.0)\n",
            "Installing collected packages: python-sat\n",
            "Successfully installed python-sat-0.1.7.dev26\n"
          ]
        }
      ],
      "source": [
        "pip install python-sat"
      ]
    },
    {
      "cell_type": "code",
      "source": [
        "from pysat.solvers import Solver"
      ],
      "metadata": {
        "id": "isxyhD8WmHtg"
      },
      "execution_count": 2,
      "outputs": []
    },
    {
      "cell_type": "code",
      "source": [
        "s = Solver(name=\"g4\") #create a solver instance\n",
        "s.add_clause([-1, 2]) #here we add the clause (-a and b)\n",
        "s.add_clause([-1, -2]) #add clause (-a and -b)\n",
        "s.add_clause([1]) #add clause a\n",
        "s.solve()\n"
      ],
      "metadata": {
        "colab": {
          "base_uri": "https://localhost:8080/"
        },
        "id": "ZC-BSggYmaMk",
        "outputId": "bf3abc99-4c1c-4809-b71f-c946d8dae01a"
      },
      "execution_count": 4,
      "outputs": [
        {
          "output_type": "execute_result",
          "data": {
            "text/plain": [
              "False"
            ]
          },
          "metadata": {},
          "execution_count": 4
        }
      ]
    },
    {
      "cell_type": "code",
      "source": [
        "t=[[1, -2], [-1, 3], [-3, 4]]\n",
        "with Solver(bootstrap_with=t) as s:\n",
        "  for m in s.enum_models():\n",
        "    print(m)"
      ],
      "metadata": {
        "colab": {
          "base_uri": "https://localhost:8080/"
        },
        "id": "pwOSIawWmrjD",
        "outputId": "de3c4697-7c27-4dee-f4ab-09f4377311cc"
      },
      "execution_count": 3,
      "outputs": [
        {
          "output_type": "stream",
          "name": "stdout",
          "text": [
            "[-1, -2, -3, -4]\n",
            "[-1, -2, -3, 4]\n",
            "[-1, -2, 3, 4]\n",
            "[1, -2, 3, 4]\n",
            "[1, 2, 3, 4]\n"
          ]
        }
      ]
    },
    {
      "cell_type": "code",
      "source": [
        "# Aufgabe 2\n",
        "# (A v B v C) ∧ (¬A v B v C) ∧ (A v ¬B v C) ∧ (A v B v ¬C) ∧ (¬A v ¬B v ¬C)\n",
        "t=[[1, 2, 3], [-1, 2, 3], [1, -2, 3], [1, 2, -3], [-1,-2,-3]]\n",
        "with Solver(bootstrap_with=t) as s:\n",
        "  for m in s.enum_models():\n",
        "    print(m)\n",
        "# Ich habe wohl genau die falschen Terme verneint, also betrachten wir das Ergebnis verneint."
      ],
      "metadata": {
        "colab": {
          "base_uri": "https://localhost:8080/"
        },
        "id": "8rMFnfLqnEXR",
        "outputId": "6ae4de78-45d9-4f1c-de3c-d53a3074fae8"
      },
      "execution_count": 17,
      "outputs": [
        {
          "output_type": "stream",
          "name": "stdout",
          "text": [
            "[1, 2, -3]\n",
            "[1, -2, 3]\n",
            "[-1, 2, 3]\n"
          ]
        }
      ]
    },
    {
      "cell_type": "code",
      "source": [
        "\"\"\" Aufgabe 3\n",
        "1 = Drache isst Nuss\n",
        "2 = Drache isst Cookie\n",
        "3 = Drache isst Butter\n",
        "4 = Fee isst Nuss\n",
        "5 = Fee isst Cookie\n",
        "6 = Fee isst Butter\n",
        "7 = Einhorn isst Nuss\n",
        "8 = Einhorn isst Cookie\n",
        "9 = Einhorn isst Butter\n",
        "10 = Drache trinkt Espresso\n",
        "11 = Drache trinkt Tee\n",
        "12 = Drache trinkt Schokolade\n",
        "13 = Fee trinkt Espresso\n",
        "14 = Fee trinkt Tee\n",
        "15 = Fee trinkt Schokolade\n",
        "16 = Einhorn trinkt Espresso\n",
        "17 = Einhorn trinkt Tee\n",
        "18 = Einhorn trinkt Schokolade\n",
        "\"\"\"\n",
        "t=[[1, 4], [1, 7], [4, 7], [1,4,7], # höchstens einer isst Nuss\n",
        "   [-1,-4,-7], # mindestens einer isst Nuss\n",
        "   [2, 5], [2, 8], [5, 8], [2,5,8],[-2,-5,-8], # Cookies\n",
        "   [3, 6], [3, 9], [6, 9], [3,6,9], [-3,-6,-9], # Butter\n",
        "   [10, 13], [10, 16], [13, 16],[10,13,16], [-10,-13,-16], # Espresso\n",
        "   [11, 14], [11, 17], [14, 17],[11,14,17], [-11,-14,-17], # Tee\n",
        "   [12, 15], [12, 18], [15, 18],[12,15,18], [-12,-15,-18], # Schokolade\n",
        "   [1,2,3],[1,2],[1,3],[2,3],[-1,-2,-3], # Drache isst einen Keks\n",
        "   [10,11,12],[10,11],[10,12],[11,12],[-10,-11,-12], # Drache trinkt ein Getränk\n",
        "   [4,5,6],[4,5],[4,6],[5,6],[-4,-5,-6], # Fee isst einen Keks\n",
        "   [13,14,15],[13,14],[13,15],[14,15],[-13,-14,-16], # Fee trinkt ein Getränk\n",
        "   [7,8,9],[7,8],[7,9],[8,9],[-7,-8,-9], # Fee isst einen Keks\n",
        "   [16,17,18],[16,17],[16,18],[17,18],[-16,-17,-18], # Fee trinkt ein Getränk\n",
        "   [1], # Drache isst keine Nuss\n",
        "   [6],[9], # Fee und Einhorn keine Butter\n",
        "   [-16], # Einhorn Espresso\n",
        "   [1,-12],[4,-15],[7,-18] # Wenn Nuss, dann Schokolade\n",
        "]\n",
        "with Solver(bootstrap_with=t) as s:\n",
        "  for m in s.enum_models():\n",
        "    print(m)\n",
        "# Wie oben ist das Ergebnis verneint, also:\n",
        "# Drache isst Butter, trinkt Tee\n",
        "# Fee isst Nuss, trinkt Schokolade\n",
        "# Einhorn isst Cookie, trinkt Espresso"
      ],
      "metadata": {
        "colab": {
          "base_uri": "https://localhost:8080/"
        },
        "id": "tT-mGe8una7O",
        "outputId": "b782f666-88f3-4031-bb1d-abaae67e5fc2"
      },
      "execution_count": 14,
      "outputs": [
        {
          "output_type": "stream",
          "name": "stdout",
          "text": [
            "[1, 2, -3, -4, 5, 6, 7, -8, 9, 10, -11, 12, 13, 14, -15, -16, 17, 18]\n"
          ]
        }
      ]
    },
    {
      "cell_type": "code",
      "source": [
        "# Aufgabe 4\n",
        "def coloring(matrix):\n",
        "  n = len(matrix)\n",
        "  s = Solver()\n",
        "  for i in range(1,n+1): # apparently pysat doesn't like 0's\n",
        "    s.add_clause([i*3,i*3+1]) # i*3+x <=> i has color x\n",
        "    s.add_clause([i*3,i*3+2])\n",
        "    s.add_clause([i*3+1,i*3+2])\n",
        "    s.add_clause([-(i*3),-(i*3+1),-(i*3+2)])\n",
        "    for j in range(1,n+1):\n",
        "      if matrix[i-1][j-1]:\n",
        "        s.add_clause([i*3, j*3])\n",
        "        s.add_clause([i*3+1, j*3+1])\n",
        "        s.add_clause([i*3+2, j*3+2])\n",
        "  return s.solve()\n",
        "print(coloring([[0,1,0,1],[1,0,1,0],[0,1,0,1],[1,0,1,0]])) # Kreis\n",
        "print(coloring([[0,1,1,1],[1,0,1,1],[1,1,0,1],[1,1,1,0]])) # Clique"
      ],
      "metadata": {
        "colab": {
          "base_uri": "https://localhost:8080/"
        },
        "id": "ZzCschW2wg5o",
        "outputId": "53bf2ae5-2cb2-4067-faa3-a49979fa5c32"
      },
      "execution_count": 21,
      "outputs": [
        {
          "output_type": "stream",
          "name": "stdout",
          "text": [
            "True\n",
            "False\n"
          ]
        }
      ]
    },
    {
      "cell_type": "code",
      "source": [],
      "metadata": {
        "id": "hzyzqIP03iZu"
      },
      "execution_count": null,
      "outputs": []
    }
  ]
}